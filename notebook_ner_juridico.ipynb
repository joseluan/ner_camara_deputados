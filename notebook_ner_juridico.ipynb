{
 "cells": [
  {
   "cell_type": "markdown",
   "id": "4bec51b5",
   "metadata": {},
   "source": [
    "# Projeto de NER usando a base UlyssesNER que contem dados da camara dos deputados\n"
   ]
  },
  {
   "cell_type": "markdown",
   "id": "9843fe5b",
   "metadata": {},
   "source": [
    "## Treinando com Spacy"
   ]
  },
  {
   "cell_type": "code",
   "execution_count": null,
   "id": "8ac4f7a3",
   "metadata": {},
   "outputs": [],
   "source": [
    "import json, os \n",
    "\n",
    "\n",
    "# Abrindo o arquivo train.txt para pegar a lista de entidades e criar um dicionario da lista de entidades \n",
    "# obs. (tem como retirar o id2label, e usar a função .index, caso a lista for muito grande)\n",
    "entidades_juridico_train_lista = list(set([l.split(' ')[-1].replace('\\n', '') for l in open('data' + os.sep + 'juridico' + os.sep + 'train.txt', 'r', encoding='utf8').readlines() if l.split(' ')[-1].replace('\\n', '') != '']))\n",
    "id2label = {i: tag for i, tag in enumerate(entidades_juridico_train_lista)}\n"
   ]
  },
  {
   "cell_type": "code",
   "execution_count": 2,
   "id": "18a65408",
   "metadata": {},
   "outputs": [
    {
     "name": "stdout",
     "output_type": "stream",
     "text": [
      "{0: 'B-DATA', 1: 'B-FUNDAMENTO', 2: 'B-ORGANIZACAO', 3: 'I-LOCAL', 4: 'I-FUNDAMENTO', 5: 'I-ORGANIZACAO', 6: 'B-PRODUTODELEI', 7: 'I-PESSOA', 8: 'B-LOCAL', 9: 'I-PRODUTODELEI', 10: 'O', 11: 'B-EVENTO', 12: 'I-DATA', 13: 'B-PESSOA', 14: 'I-EVENTO'}\n",
      "['B-DATA', 'B-FUNDAMENTO', 'B-ORGANIZACAO', 'I-LOCAL', 'I-FUNDAMENTO', 'I-ORGANIZACAO', 'B-PRODUTODELEI', 'I-PESSOA', 'B-LOCAL', 'I-PRODUTODELEI', 'O', 'B-EVENTO', 'I-DATA', 'B-PESSOA', 'I-EVENTO']\n"
     ]
    }
   ],
   "source": [
    "print(id2label)\n",
    "print(entidades_juridico_train_lista)"
   ]
  },
  {
   "cell_type": "code",
   "execution_count": 3,
   "id": "120ca970",
   "metadata": {},
   "outputs": [
    {
     "data": {
      "text/plain": [
       "0"
      ]
     },
     "execution_count": 3,
     "metadata": {},
     "output_type": "execute_result"
    }
   ],
   "source": [
    "entidades_juridico_train_lista.index('B-DATA')"
   ]
  },
  {
   "cell_type": "markdown",
   "id": "2ddad998",
   "metadata": {},
   "source": [
    "### Carregando e convertendo os arquivos de validação, treino e teste"
   ]
  },
  {
   "cell_type": "code",
   "execution_count": 71,
   "id": "a02511ea",
   "metadata": {},
   "outputs": [
    {
     "name": "stdout",
     "output_type": "stream",
     "text": [
      "Treino: \n",
      "{'sentences': 'sala das sessões , em de de 2019 .', 'tokens': ['sala', 'das', 'sessões', ',', 'em', 'de', 'de', '2019', '.'], 'ner_tokens': ['O', 'O', 'O', 'O', 'O', 'O', 'O', 'B-DATA', 'O']}\n",
      "\n",
      "Validação: \n",
      "{'sentences': 'art . 3º esta lei entra em vigor na data de sua publicação .', 'tokens': ['art', '.', '3º', 'esta', 'lei', 'entra', 'em', 'vigor', 'na', 'data', 'de', 'sua', 'publicação', '.'], 'ner_tokens': ['O', 'O', 'O', 'O', 'O', 'O', 'O', 'O', 'O', 'O', 'O', 'O', 'O', 'O']}\n",
      "\n",
      "Teste: \n",
      "{'sentences': 'cremos que estes avisos , afixados em qualquer estabelecimento podem servir para a formação da consciência sanitária dos motoristas e inibir comportamentos de risco à saúde de todos .', 'tokens': ['cremos', 'que', 'estes', 'avisos', ',', 'afixados', 'em', 'qualquer', 'estabelecimento', 'podem', 'servir', 'para', 'a', 'formação', 'da', 'consciência', 'sanitária', 'dos', 'motoristas', 'e', 'inibir', 'comportamentos', 'de', 'risco', 'à', 'saúde', 'de', 'todos', '.'], 'ner_tokens': ['O', 'O', 'O', 'O', 'O', 'O', 'O', 'O', 'O', 'O', 'O', 'O', 'O', 'O', 'O', 'O', 'O', 'O', 'B-PESSOA', 'O', 'O', 'O', 'O', 'O', 'O', 'O', 'O', 'O', 'O']}\n",
      "\n"
     ]
    }
   ],
   "source": [
    "# Treinamento\n",
    "juridico_train = json.load(open('data' + os.sep + 'juridico' + os.sep + 'train.json', 'r', encoding='utf8'))\n",
    "print('Treino: ')\n",
    "print(juridico_train[0])\n",
    "print()\n",
    "\n",
    "for i, payload in enumerate(juridico_train):\n",
    "    juridico_train[i]['ner_tags'] = [entidades_juridico_train_lista.index(entidade) for entidade in payload['ner_tokens']]\n",
    "\n",
    "# Validação\n",
    "juridico_valid = json.load(open('data' + os.sep + 'juridico' + os.sep + 'dev.json', 'r', encoding='utf8'))\n",
    "print('Validação: ')\n",
    "print(juridico_valid[0])\n",
    "print()\n",
    "\n",
    "for i, payload in enumerate(juridico_valid):\n",
    "    juridico_valid[i]['ner_tags'] = [entidades_juridico_train_lista.index(entidade) for entidade in payload['ner_tokens']]\n",
    "\n",
    "\n",
    "# Teste\n",
    "juridico_test = json.load(open('data' + os.sep + 'juridico' + os.sep + 'test.json', 'r', encoding='utf8'))\n",
    "print('Teste: ')\n",
    "print(juridico_test[0])\n",
    "print()\n",
    "\n",
    "for i, payload in enumerate(juridico_test):\n",
    "    juridico_test[i]['ner_tags'] = [entidades_juridico_train_lista.index(entidade) for entidade in payload['ner_tokens']]"
   ]
  },
  {
   "cell_type": "code",
   "execution_count": 5,
   "id": "86600944",
   "metadata": {},
   "outputs": [
    {
     "data": {
      "text/plain": [
       "{'sentences': 'sala das sessões , em de de 2019 .',\n",
       " 'tokens': ['sala', 'das', 'sessões', ',', 'em', 'de', 'de', '2019', '.'],\n",
       " 'ner_tokens': ['O', 'O', 'O', 'O', 'O', 'O', 'O', 'B-DATA', 'O'],\n",
       " 'ner_tags': [10, 10, 10, 10, 10, 10, 10, 0, 10]}"
      ]
     },
     "execution_count": 5,
     "metadata": {},
     "output_type": "execute_result"
    }
   ],
   "source": [
    "juridico_train[0]"
   ]
  },
  {
   "cell_type": "code",
   "execution_count": 6,
   "id": "7944c8fa",
   "metadata": {},
   "outputs": [
    {
     "data": {
      "text/plain": [
       "10"
      ]
     },
     "execution_count": 6,
     "metadata": {},
     "output_type": "execute_result"
    }
   ],
   "source": [
    "entidades_juridico_train_lista.index('O')"
   ]
  },
  {
   "cell_type": "code",
   "execution_count": 7,
   "id": "996c4f01",
   "metadata": {},
   "outputs": [],
   "source": [
    "def convert_to_entity_dicts(data: dict[str, list[str]]) -> tuple[list[dict], str]:\n",
    "    \"\"\"\n",
    "    Converts a dictionary containing token and NER tag information to a list of dictionaries\n",
    "    containing start, end, label, and text for each named entity.\n",
    "\n",
    "    Args:\n",
    "        data (dict[str, list[str]]): A dictionary containing 'tokens' and 'ner_tags' keys.\n",
    "\n",
    "    Returns:\n",
    "        tuple[list[dict], str]: A list of dictionaries containing start, end, label, and text for each named entity,\n",
    "        and the original text formed by joining the tokens.\n",
    "\n",
    "    Example:\n",
    "        >>> data = {'tokens': ['John', 'Doe', 'is', 'a', 'doctor'], 'ner_tags': [1, 2, 0, 0, 3]}\n",
    "        >>> entities, text = convert_to_entity_dicts(data)\n",
    "        >>> entities\n",
    "        [{'start': 0, 'end': 8, 'label': 1, 'text': 'John Doe'}, {'start': 15, 'end': 21, 'label': 3, 'text': 'doctor'}]\n",
    "        >>> text\n",
    "        'John Doe is a doctor'\n",
    "    \"\"\"\n",
    "    # Extract tokens and NER tags from the input data\n",
    "    tokens = data[\"tokens\"]\n",
    "    ner_tags = data[\"ner_tokens\"]\n",
    "    #ner_tags = [id2label[tag_id] for tag_id in entidades_juridico_train_lista]\n",
    "    entity_dicts = []\n",
    "\n",
    "    # Join the tokens to form the original text\n",
    "    original_text = \" \".join(tokens)\n",
    "\n",
    "    i = 0\n",
    "    while i < len(tokens):\n",
    "        # Check if the current token is part of a named entity\n",
    "        if ner_tags[i] != 0:\n",
    "            label = ner_tags[i]\n",
    "            # Calculate the start index of the named entity\n",
    "            start_index = len(\" \".join(tokens[:i])) + int(i > 0)\n",
    "            start_token_idx = i\n",
    "            # Find the end index of the named entity\n",
    "            while i < len(tokens) and ner_tags[i] == label:\n",
    "                i += 1\n",
    "            end_index = len(\" \".join(tokens[:i]))\n",
    "            # Extract the text of the entity\n",
    "            entity_text = \" \".join(tokens[start_token_idx:i])\n",
    "            # Add the named entity to the list of dictionaries\n",
    "            entity_dicts.append(\n",
    "                {\n",
    "                    \"start\": start_index,\n",
    "                    \"end\": end_index,\n",
    "                    \"label\": label,\n",
    "                    \"text\": entity_text,\n",
    "                }\n",
    "            )\n",
    "        else:\n",
    "            i += 1\n",
    "\n",
    "    # Remove O entities from the list\n",
    "    entity_dicts = [entity for entity in entity_dicts if entity[\"label\"] != \"O\"]\n",
    "\n",
    "    return entity_dicts, original_text\n",
    "\n",
    "\n",
    "def merge_entities_of_same_type(text: str, entity_spans: list[dict]) -> list[dict]:\n",
    "    \"\"\"\n",
    "    Merges B- and I- entities of the same type.\n",
    "\n",
    "    Args:\n",
    "        text (str): A string containing the text to be analyzed.\n",
    "        entity_spans (list[dict]): A list of dictionaries containing start, end, label, and text for each named entity.\n",
    "\n",
    "    Returns:\n",
    "        list[dict]: A list of dictionaries containing start, end, label, and text for each named entity\n",
    "                   with B- and I- entities of the same type merged and B- prefixes removed.\n",
    "\n",
    "    Example:\n",
    "        >>> text = \"John Doe Smith is a doctor.\"\n",
    "        >>> entity_spans = [\n",
    "        ...     {'start': 0, 'end': 4, 'label': 'B-PERSON', 'text': 'John'},\n",
    "        ...     {'start': 5, 'end': 8, 'label': 'I-PERSON', 'text': 'Doe'},\n",
    "        ...     {'start': 9, 'end': 14, 'label': 'I-PERSON', 'text': 'Smith'},\n",
    "        ...     {'start': 18, 'end': 24, 'label': 'B-PROFESSION', 'text': 'doctor'}\n",
    "        ... ]\n",
    "        >>> merge_entities_of_same_type(text, entity_spans)\n",
    "        [{'start': 0, 'end': 14, 'label': 'PERSON', 'text': 'John Doe Smith'},\n",
    "         {'start': 18, 'end': 24, 'label': 'PROFESSION', 'text': 'doctor'}]\n",
    "    \"\"\"\n",
    "    merged_entity_spans = []\n",
    "    i = 0\n",
    "    while i < len(entity_spans):\n",
    "        # If current entity starts with 'B-'\n",
    "        if entity_spans[i][\"label\"].startswith(\"B-\"):\n",
    "            start_idx = entity_spans[i][\"start\"]\n",
    "            end_idx = entity_spans[i][\"end\"]\n",
    "            entity_type = entity_spans[i][\"label\"][2:]  # Remove 'B-'\n",
    "            entity_text = entity_spans[i][\"text\"]\n",
    "            j = i + 1\n",
    "\n",
    "            # Keep merging consecutive I- entities of the same type\n",
    "            while (\n",
    "                j < len(entity_spans) and entity_spans[j][\"label\"] == f\"I-{entity_type}\"\n",
    "            ):\n",
    "                end_idx = entity_spans[j][\"end\"]\n",
    "                entity_text = text[\n",
    "                    start_idx:end_idx\n",
    "                ]  # Extract the full merged text from original\n",
    "                j += 1\n",
    "\n",
    "            merged_entity_spans.append(\n",
    "                {\n",
    "                    \"start\": start_idx,\n",
    "                    \"end\": end_idx,\n",
    "                    \"label\": entity_type,\n",
    "                    \"text\": entity_text,\n",
    "                }\n",
    "            )\n",
    "            i = j\n",
    "        # If it's not a B- entity, add it as is (but remove B- or I- prefix if present)\n",
    "        else:\n",
    "            label = entity_spans[i][\"label\"]\n",
    "            if label.startswith((\"B-\", \"I-\")):\n",
    "                label = label[2:]\n",
    "\n",
    "            merged_entity_spans.append(\n",
    "                {\n",
    "                    \"start\": entity_spans[i][\"start\"],\n",
    "                    \"end\": entity_spans[i][\"end\"],\n",
    "                    \"label\": label,\n",
    "                    \"text\": entity_spans[i][\"text\"],\n",
    "                }\n",
    "            )\n",
    "            i += 1\n",
    "\n",
    "    return merged_entity_spans"
   ]
  },
  {
   "cell_type": "code",
   "execution_count": 72,
   "id": "93eb65ed",
   "metadata": {},
   "outputs": [
    {
     "name": "stdout",
     "output_type": "stream",
     "text": [
      "{'sentences': 'sala das sessões , em de de 2019 .', 'tokens': ['sala', 'das', 'sessões', ',', 'em', 'de', 'de', '2019', '.'], 'ner_tokens': ['O', 'O', 'O', 'O', 'O', 'O', 'O', 'B-DATA', 'O'], 'ner_tags': [10, 10, 10, 10, 10, 10, 10, 0, 10]}\n"
     ]
    },
    {
     "data": {
      "text/plain": [
       "([{'start': 28, 'end': 32, 'label': 'B-DATA', 'text': '2019'}],\n",
       " 'sala das sessões , em de de 2019 .')"
      ]
     },
     "execution_count": 72,
     "metadata": {},
     "output_type": "execute_result"
    }
   ],
   "source": [
    "print(juridico_train[0])\n",
    "ner_dict, text = convert_to_entity_dicts(juridico_train[0])\n",
    "ner_dict, text"
   ]
  },
  {
   "cell_type": "code",
   "execution_count": 10,
   "id": "b715976e",
   "metadata": {},
   "outputs": [
    {
     "name": "stdout",
     "output_type": "stream",
     "text": [
      "[\n",
      "    {\n",
      "        \"start\": 28,\n",
      "        \"end\": 32,\n",
      "        \"label\": \"B-DATA\",\n",
      "        \"text\": \"2019\"\n",
      "    }\n",
      "]\n"
     ]
    }
   ],
   "source": [
    "import json\n",
    "\n",
    "print(json.dumps(ner_dict, indent=4))"
   ]
  },
  {
   "cell_type": "code",
   "execution_count": 11,
   "id": "bf4d3419",
   "metadata": {},
   "outputs": [
    {
     "data": {
      "text/plain": [
       "[{'start': 28, 'end': 32, 'label': 'DATA', 'text': '2019'}]"
      ]
     },
     "execution_count": 11,
     "metadata": {},
     "output_type": "execute_result"
    }
   ],
   "source": [
    "ner_dict = merge_entities_of_same_type(text, ner_dict)\n",
    "ner_dict"
   ]
  },
  {
   "cell_type": "code",
   "execution_count": 30,
   "id": "d09ae090",
   "metadata": {},
   "outputs": [],
   "source": [
    "from spacy import displacy\n",
    "from helpers.misc import get_random_colors\n",
    "\n",
    "\n",
    "def render_named_entities(\n",
    "    text: str, entity_spans: list[dict[str, any]], colors: dict[str, str] | None = None\n",
    ") -> list[dict[str, any]]:\n",
    "    \"\"\"\n",
    "    Render named entities in the text using displaCy.\n",
    "\n",
    "    Args:\n",
    "        text (str): The text to render.\n",
    "        entity_spans (list[dict[str, any]]): A list of dictionaries, each containing the start index, end index, label, and text of an entity.\n",
    "        colors (Optional[dict[str, str]]): A dictionary mapping entity types to colors. If None, random colors will be used.\n",
    "\n",
    "    Returns:\n",
    "        list[dict[str, any]]: The list of entity dictionaries that was rendered.\n",
    "\n",
    "    Example:\n",
    "        >>> text = \"John Doe works at OpenAI.\"\n",
    "        >>> entity_spans = [\n",
    "        ...     {\"start\": 0, \"end\": 8, \"label\": \"PERSON\", \"text\": \"John Doe\"},\n",
    "        ...     {\"start\": 18, \"end\": 24, \"label\": \"ORG\", \"text\": \"OpenAI\"}\n",
    "        ... ]\n",
    "        >>> render_named_entities(text, entity_spans)\n",
    "    \"\"\"\n",
    "    # If no colors are provided, generate random colors for each entity type\n",
    "    if colors is None:\n",
    "        entity_types = list(set([span[\"label\"] for span in entity_spans]))\n",
    "        random_colors = get_random_colors(len(entity_types))\n",
    "        colors = {\n",
    "            entity_type: random_colors[i] for i, entity_type in enumerate(entity_types)\n",
    "        }\n",
    "\n",
    "    # Define the options for displaCy visualization\n",
    "    displacy_options = {\"ents\": list(colors.keys()), \"colors\": colors}\n",
    "\n",
    "    # Prepare the data for displaCy rendering\n",
    "    displacy_data = [{\"text\": text, \"ents\": entity_spans}]\n",
    "\n",
    "    # Render the named entities in the text using displaCy\n",
    "    displacy.render(\n",
    "        displacy_data, style=\"ent\", manual=True, jupyter=True\n",
    "    )"
   ]
  },
  {
   "cell_type": "code",
   "execution_count": 68,
   "id": "d7a24208",
   "metadata": {},
   "outputs": [
    {
     "name": "stdout",
     "output_type": "stream",
     "text": [
      "Looking in indexes: https://download.pytorch.org/whl/cu128\n",
      "Requirement already satisfied: torch in c:\\users\\josel\\documents\\ufrn\\pln\\imd1107-nlp\\.venv\\lib\\site-packages (2.7.1+cu128)\n",
      "Requirement already satisfied: torchvision in c:\\users\\josel\\documents\\ufrn\\pln\\imd1107-nlp\\.venv\\lib\\site-packages (0.22.1)\n",
      "Requirement already satisfied: torchaudio in c:\\users\\josel\\documents\\ufrn\\pln\\imd1107-nlp\\.venv\\lib\\site-packages (2.7.1+cu128)\n",
      "Requirement already satisfied: filelock in c:\\users\\josel\\documents\\ufrn\\pln\\imd1107-nlp\\.venv\\lib\\site-packages (from torch) (3.18.0)\n",
      "Requirement already satisfied: typing-extensions>=4.10.0 in c:\\users\\josel\\documents\\ufrn\\pln\\imd1107-nlp\\.venv\\lib\\site-packages (from torch) (4.12.2)\n",
      "Requirement already satisfied: sympy>=1.13.3 in c:\\users\\josel\\documents\\ufrn\\pln\\imd1107-nlp\\.venv\\lib\\site-packages (from torch) (1.14.0)\n",
      "Requirement already satisfied: networkx in c:\\users\\josel\\documents\\ufrn\\pln\\imd1107-nlp\\.venv\\lib\\site-packages (from torch) (3.4.2)\n",
      "Requirement already satisfied: jinja2 in c:\\users\\josel\\documents\\ufrn\\pln\\imd1107-nlp\\.venv\\lib\\site-packages (from torch) (3.1.6)\n",
      "Requirement already satisfied: fsspec in c:\\users\\josel\\documents\\ufrn\\pln\\imd1107-nlp\\.venv\\lib\\site-packages (from torch) (2024.12.0)\n",
      "Requirement already satisfied: setuptools in c:\\users\\josel\\documents\\ufrn\\pln\\imd1107-nlp\\.venv\\lib\\site-packages (from torch) (76.0.0)\n",
      "Requirement already satisfied: numpy in c:\\users\\josel\\documents\\ufrn\\pln\\imd1107-nlp\\.venv\\lib\\site-packages (from torchvision) (1.26.4)\n",
      "Requirement already satisfied: pillow!=8.3.*,>=5.3.0 in c:\\users\\josel\\documents\\ufrn\\pln\\imd1107-nlp\\.venv\\lib\\site-packages (from torchvision) (11.1.0)\n",
      "Requirement already satisfied: mpmath<1.4,>=1.1.0 in c:\\users\\josel\\documents\\ufrn\\pln\\imd1107-nlp\\.venv\\lib\\site-packages (from sympy>=1.13.3->torch) (1.3.0)\n",
      "Requirement already satisfied: MarkupSafe>=2.0 in c:\\users\\josel\\documents\\ufrn\\pln\\imd1107-nlp\\.venv\\lib\\site-packages (from jinja2->torch) (3.0.2)\n"
     ]
    }
   ],
   "source": [
    "!pip3 install torch torchvision torchaudio --index-url https://download.pytorch.org/whl/cu128"
   ]
  },
  {
   "cell_type": "code",
   "execution_count": 69,
   "id": "c9ef7254",
   "metadata": {},
   "outputs": [
    {
     "ename": "ImportError",
     "evalue": "cannot import name 'display' from 'IPython.core.display' (c:\\Users\\josel\\Documents\\UFRN\\PLN\\imd1107-nlp\\.venv\\Lib\\site-packages\\IPython\\core\\display.py)",
     "output_type": "error",
     "traceback": [
      "\u001b[31m---------------------------------------------------------------------------\u001b[39m",
      "\u001b[31mImportError\u001b[39m                               Traceback (most recent call last)",
      "\u001b[36mCell\u001b[39m\u001b[36m \u001b[39m\u001b[32mIn[69]\u001b[39m\u001b[32m, line 1\u001b[39m\n\u001b[32m----> \u001b[39m\u001b[32m1\u001b[39m \u001b[43mrender_named_entities\u001b[49m\u001b[43m(\u001b[49m\u001b[43mtext\u001b[49m\u001b[43m,\u001b[49m\u001b[43m \u001b[49m\u001b[43mner_dict\u001b[49m\u001b[43m)\u001b[49m\n",
      "\u001b[36mCell\u001b[39m\u001b[36m \u001b[39m\u001b[32mIn[30]\u001b[39m\u001b[32m, line 42\u001b[39m, in \u001b[36mrender_named_entities\u001b[39m\u001b[34m(text, entity_spans, colors)\u001b[39m\n\u001b[32m     39\u001b[39m displacy_data = [{\u001b[33m\"\u001b[39m\u001b[33mtext\u001b[39m\u001b[33m\"\u001b[39m: text, \u001b[33m\"\u001b[39m\u001b[33ments\u001b[39m\u001b[33m\"\u001b[39m: entity_spans}]\n\u001b[32m     41\u001b[39m \u001b[38;5;66;03m# Render the named entities in the text using displaCy\u001b[39;00m\n\u001b[32m---> \u001b[39m\u001b[32m42\u001b[39m \u001b[43mdisplacy\u001b[49m\u001b[43m.\u001b[49m\u001b[43mrender\u001b[49m\u001b[43m(\u001b[49m\n\u001b[32m     43\u001b[39m \u001b[43m    \u001b[49m\u001b[43mdisplacy_data\u001b[49m\u001b[43m,\u001b[49m\u001b[43m \u001b[49m\u001b[43mstyle\u001b[49m\u001b[43m=\u001b[49m\u001b[33;43m\"\u001b[39;49m\u001b[33;43ment\u001b[39;49m\u001b[33;43m\"\u001b[39;49m\u001b[43m,\u001b[49m\u001b[43m \u001b[49m\u001b[43mmanual\u001b[49m\u001b[43m=\u001b[49m\u001b[38;5;28;43;01mTrue\u001b[39;49;00m\u001b[43m,\u001b[49m\u001b[43m \u001b[49m\u001b[43mjupyter\u001b[49m\u001b[43m=\u001b[49m\u001b[38;5;28;43;01mTrue\u001b[39;49;00m\n\u001b[32m     44\u001b[39m \u001b[43m\u001b[49m\u001b[43m)\u001b[49m\n",
      "\u001b[36mFile \u001b[39m\u001b[32mc:\\Users\\josel\\Documents\\UFRN\\PLN\\imd1107-nlp\\.venv\\Lib\\site-packages\\spacy\\displacy\\__init__.py:69\u001b[39m, in \u001b[36mrender\u001b[39m\u001b[34m(docs, style, page, minify, jupyter, options, manual)\u001b[39m\n\u001b[32m     65\u001b[39m     html = RENDER_WRAPPER(html)\n\u001b[32m     66\u001b[39m \u001b[38;5;28;01mif\u001b[39;00m jupyter \u001b[38;5;129;01mor\u001b[39;00m (jupyter \u001b[38;5;129;01mis\u001b[39;00m \u001b[38;5;28;01mNone\u001b[39;00m \u001b[38;5;129;01mand\u001b[39;00m is_in_jupyter()):\n\u001b[32m     67\u001b[39m     \u001b[38;5;66;03m# return HTML rendered by IPython display()\u001b[39;00m\n\u001b[32m     68\u001b[39m     \u001b[38;5;66;03m# See #4840 for details on span wrapper to disable mathjax\u001b[39;00m\n\u001b[32m---> \u001b[39m\u001b[32m69\u001b[39m     \u001b[38;5;28;01mfrom\u001b[39;00m\u001b[38;5;250m \u001b[39m\u001b[34;01mIPython\u001b[39;00m\u001b[34;01m.\u001b[39;00m\u001b[34;01mcore\u001b[39;00m\u001b[34;01m.\u001b[39;00m\u001b[34;01mdisplay\u001b[39;00m\u001b[38;5;250m \u001b[39m\u001b[38;5;28;01mimport\u001b[39;00m HTML, display\n\u001b[32m     71\u001b[39m     \u001b[38;5;28;01mreturn\u001b[39;00m display(HTML(\u001b[33m'\u001b[39m\u001b[33m<span class=\u001b[39m\u001b[33m\"\u001b[39m\u001b[33mtex2jax_ignore\u001b[39m\u001b[33m\"\u001b[39m\u001b[33m>\u001b[39m\u001b[38;5;132;01m{}\u001b[39;00m\u001b[33m</span>\u001b[39m\u001b[33m'\u001b[39m.format(html)))\n\u001b[32m     72\u001b[39m \u001b[38;5;28;01mreturn\u001b[39;00m html\n",
      "\u001b[31mImportError\u001b[39m: cannot import name 'display' from 'IPython.core.display' (c:\\Users\\josel\\Documents\\UFRN\\PLN\\imd1107-nlp\\.venv\\Lib\\site-packages\\IPython\\core\\display.py)"
     ]
    }
   ],
   "source": [
    "render_named_entities(text, ner_dict)"
   ]
  },
  {
   "cell_type": "code",
   "execution_count": 32,
   "id": "7efb387f",
   "metadata": {},
   "outputs": [],
   "source": [
    "def prepare_lener_data_for_training(lener_data: list) -> list[tuple[str, list[tuple[int, int, str]]]]:\n",
    "    \"\"\"\n",
    "    Prepare the data for training by converting it to tuples and merging entities of the same type.\n",
    "\n",
    "    Args:\n",
    "        lener_data (list): The data to prepare for training.\n",
    "        id2label (dict): A dictionary mapping entity IDs to labels.\n",
    "\n",
    "    Returns:\n",
    "        list[tuple[str, list[tuple[int, int, str]]]]: A list of tuples, each containing a text and a list of entity tuples.\n",
    "    \"\"\"\n",
    "    # Initialize an empty list to store the prepared data\n",
    "    prepared_data = []\n",
    "\n",
    "    # Iterate over the data\n",
    "    for data_item in lener_data:\n",
    "        # Convert the data item to tuples\n",
    "        entity_dicts, text = convert_to_entity_dicts(data_item)\n",
    "        # Merge entities of the same type\n",
    "        entity_dicts = merge_entities_of_same_type(text, entity_dicts)\n",
    "        # Append the text and the entity tuples to the prepared data\n",
    "        prepared_data.append((text, entity_dicts))\n",
    "\n",
    "    return prepared_data\n",
    "\n",
    "\n",
    "# Prepare the training, validation, and test data\n",
    "training_data = prepare_lener_data_for_training(juridico_train)\n",
    "validation_data = prepare_lener_data_for_training(juridico_valid)\n",
    "test_data = prepare_lener_data_for_training(juridico_test)"
   ]
  },
  {
   "cell_type": "code",
   "execution_count": 33,
   "id": "8c93c69e",
   "metadata": {},
   "outputs": [],
   "source": [
    "import random\n",
    "\n",
    "random.seed(271828)\n",
    "\n",
    "random.shuffle(training_data)  # shuffle the training data"
   ]
  },
  {
   "cell_type": "code",
   "execution_count": 34,
   "id": "cebedea4",
   "metadata": {},
   "outputs": [],
   "source": [
    "import spacy\n",
    "from spacy.tokens import DocBin\n",
    "\n",
    "# Load a new blank spaCy model for Portuguese\n",
    "nlp = spacy.blank(\"pt\")\n",
    "\n",
    "\n",
    "def convert_to_spacy(data_list):\n",
    "    \"\"\"\n",
    "    Converts a list of texts and their annotations to a spaCy DocBin object.\n",
    "\n",
    "    Args:\n",
    "        data_list (list): A list of tuples containing the text and annotations.\n",
    "            Each annotation should be a dictionary with keys \"start\", \"end\", \"label\", and \"text\".\n",
    "\n",
    "    Returns:\n",
    "        DocBin: A spaCy DocBin object containing the labeled texts.\n",
    "    \"\"\"\n",
    "    # Create a DocBin object to store the processed documents\n",
    "    db = DocBin()\n",
    "\n",
    "    # Iterate over each text and its corresponding annotations in the data list\n",
    "    for text, annot in data_list:\n",
    "        # Create a spaCy Doc object from the text\n",
    "        doc = nlp.make_doc(text)\n",
    "        ents = []\n",
    "        seen_tokens = set()\n",
    "\n",
    "        # Iterate over each annotation dictionary\n",
    "        for entity in annot:\n",
    "            start = entity[\"start\"]\n",
    "            end = entity[\"end\"]\n",
    "            label = entity[\"label\"]\n",
    "\n",
    "            # Create a span for the entity using character indexes.\n",
    "            span = doc.char_span(start, end, label=label, alignment_mode=\"contract\")\n",
    "\n",
    "            # If the span is None, the character span does not align with token boundaries.\n",
    "            if span is None:\n",
    "                print(\n",
    "                    f\"Skipping entity [{start}, {end}, {label}] in the following text because \"\n",
    "                    f\"the character span '{text[start:end]}' does not align with token boundaries:\\n\\n{text}\\n\"\n",
    "                )\n",
    "            else:\n",
    "                # Check for overlapping tokens\n",
    "                if any(token.i in seen_tokens for token in span):\n",
    "                    continue\n",
    "                else:\n",
    "                    # Add the span to the list of entities\n",
    "                    ents.append(span)\n",
    "                    seen_tokens.update(token.i for token in span)\n",
    "\n",
    "        # Assign the list of entities to the doc.ents attribute\n",
    "        doc.ents = ents\n",
    "\n",
    "        # Add the processed document to the DocBin object\n",
    "        db.add(doc)\n",
    "\n",
    "    # Return the DocBin object containing all the processed documents\n",
    "    return db\n",
    "\n",
    "\n",
    "# Example usage:\n",
    "# Assuming training_data, validation_data, and test_data are defined somewhere,\n",
    "# and each annotation is now a dict with keys \"start\", \"end\", \"label\", and \"text\".\n",
    "db_train = convert_to_spacy(training_data)\n",
    "db_valid = convert_to_spacy(validation_data)\n",
    "db_test = convert_to_spacy(test_data)"
   ]
  },
  {
   "cell_type": "code",
   "execution_count": 35,
   "id": "6f6dcdd9",
   "metadata": {},
   "outputs": [],
   "source": [
    "from pathlib import Path\n",
    "\n",
    "output_dir = Path(\"./outputs/spacy\")  # output directory\n",
    "output_dir.mkdir(parents=True, exist_ok=True)  # create the output directory"
   ]
  },
  {
   "cell_type": "code",
   "execution_count": 36,
   "id": "f0f639d7",
   "metadata": {},
   "outputs": [],
   "source": [
    "# Save the data to disk\n",
    "db_train.to_disk(\"./outputs/spacy/train.spacy\")\n",
    "db_valid.to_disk(\"./outputs/spacy/valid.spacy\")\n",
    "db_test.to_disk(\"./outputs/spacy/test.spacy\")"
   ]
  },
  {
   "cell_type": "code",
   "execution_count": 37,
   "id": "67acbd81",
   "metadata": {},
   "outputs": [
    {
     "data": {
      "text/plain": [
       "(1760, 140, 592)"
      ]
     },
     "execution_count": 37,
     "metadata": {},
     "output_type": "execute_result"
    }
   ],
   "source": [
    "# If we want to load it later\n",
    "from spacy.tokens import DocBin\n",
    "\n",
    "db_train = DocBin().from_disk(\"./outputs/spacy/train.spacy\")\n",
    "db_valid = DocBin().from_disk(\"./outputs/spacy/valid.spacy\")\n",
    "db_test = DocBin().from_disk(\"./outputs/spacy/test.spacy\")\n",
    "len(db_train), len(db_valid), len(db_test)"
   ]
  },
  {
   "cell_type": "code",
   "execution_count": null,
   "id": "90f6117e",
   "metadata": {},
   "outputs": [
    {
     "name": "stdout",
     "output_type": "stream",
     "text": [
      "\u001b[38;5;3m⚠ To generate a more effective transformer-based config (GPU-only),\n",
      "install the spacy-transformers package and re-run this command. The config\n",
      "generated now does not use transformers.\u001b[0m\n",
      "\u001b[38;5;4mℹ Generated config template specific for your use case\u001b[0m\n",
      "- Language: pt\n",
      "- Pipeline: ner\n",
      "- Optimize for: efficiency\n",
      "- Hardware: CPU\n",
      "- Transformer: None\n",
      "\u001b[38;5;2m✔ Auto-filled config with all values\u001b[0m\n",
      "\u001b[38;5;2m✔ Saved config\u001b[0m\n",
      "outputs\\spacy\\config.cfg\n",
      "You can now add your data and train your pipeline:\n",
      "python -m spacy train config.cfg --paths.train ./train.spacy --paths.dev ./dev.spacy\n"
     ]
    }
   ],
   "source": [
    "# Creating the config file\n",
    "! python -m spacy init config \"./outputs/spacy/config.cfg\" --lang pt --pipeline ner --optimize efficiency --force"
   ]
  },
  {
   "cell_type": "code",
   "execution_count": null,
   "id": "85da3e7a",
   "metadata": {},
   "outputs": [
    {
     "name": "stdout",
     "output_type": "stream",
     "text": [
      "\u001b[38;5;4mℹ Saving to output directory: outputs\\spacy\u001b[0m\n",
      "\u001b[38;5;4mℹ Using CPU\u001b[0m\n",
      "\u001b[38;5;4mℹ To switch to GPU 0, use the option: --gpu-id 0\u001b[0m\n",
      "\u001b[1m\n",
      "=========================== Initializing pipeline ===========================\u001b[0m\n",
      "\u001b[38;5;2m✔ Initialized pipeline\u001b[0m\n",
      "\u001b[1m\n",
      "============================= Training pipeline =============================\u001b[0m\n",
      "\u001b[38;5;4mℹ Pipeline: ['tok2vec', 'ner']\u001b[0m\n",
      "\u001b[38;5;4mℹ Initial learn rate: 0.001\u001b[0m\n",
      "E    #       LOSS TOK2VEC  LOSS NER  ENTS_F  ENTS_P  ENTS_R  SCORE \n",
      "---  ------  ------------  --------  ------  ------  ------  ------\n",
      "  0       0          0.00     51.70    0.00    0.00    0.00    0.00\n",
      "  0     200        662.03   1606.52    8.51   17.39    5.63    0.09\n",
      "  0     400       2204.37   1212.91   24.86   53.49   16.20    0.25\n",
      "  0     600       4884.61   1725.90   38.57   53.09   30.28    0.39\n",
      "  1     800        628.11   1385.34   51.48   64.21   42.96    0.51\n",
      "  1    1000        428.23   1226.08   61.96   69.91   55.63    0.62\n",
      "  2    1200        971.48   1231.78   65.47   66.91   64.08    0.65\n",
      "  3    1400        833.99   1194.82   74.90   82.91   68.31    0.75\n",
      "  4    1600        672.18   1059.30   72.32   75.97   69.01    0.72\n",
      "  5    1800       1860.25   1249.24   75.29   81.82   69.72    0.75\n",
      "  7    2000       1114.76    898.81   77.78   82.03   73.94    0.78\n",
      "  9    2200       1994.53    935.01   71.94   73.53   70.42    0.72\n",
      " 12    2400       2204.57    888.70   75.29   81.82   69.72    0.75\n",
      " 14    2600       9167.70    758.04   73.00   79.34   67.61    0.73\n",
      " 17    2800       2535.61    570.10   74.44   79.84   69.72    0.74\n",
      " 19    3000       2241.88    584.05   75.84   80.31   71.83    0.76\n",
      " 22    3200       1622.39    431.72   72.94   82.30   65.49    0.73\n",
      " 24    3400       2121.08    454.23   74.24   80.33   69.01    0.74\n",
      " 27    3600       1342.92    338.46   75.47   81.30   70.42    0.75\n",
      "\u001b[38;5;2m✔ Saved pipeline to output directory\u001b[0m\n",
      "outputs\\spacy\\model-last\n"
     ]
    }
   ],
   "source": [
    "# Training\n",
    "\n",
    "! python -m spacy train \"./outputs/spacy/config.cfg\" \\\n",
    "                        --output \"./outputs/spacy\" \\\n",
    "                        --paths.train \"./outputs/spacy/train.spacy\" \\\n",
    "                        --paths.dev \"./outputs/spacy/valid.spacy\" "
   ]
  },
  {
   "cell_type": "code",
   "execution_count": 38,
   "id": "af8e8adc",
   "metadata": {},
   "outputs": [
    {
     "data": {
      "text/plain": [
       "{'token_acc': 1.0,\n",
       " 'token_p': 1.0,\n",
       " 'token_r': 1.0,\n",
       " 'token_f': 1.0,\n",
       " 'ents_p': 0.7380191693290735,\n",
       " 'ents_r': 0.648876404494382,\n",
       " 'ents_f': 0.6905829596412557,\n",
       " 'ents_per_type': {'PESSOA': {'p': 0.7851239669421488,\n",
       "   'r': 0.7037037037037037,\n",
       "   'f': 0.7421875},\n",
       "  'FUNDAMENTO': {'p': 0.7181208053691275,\n",
       "   'r': 0.7328767123287672,\n",
       "   'f': 0.7254237288135593},\n",
       "  'PRODUTODELEI': {'p': 0.5692307692307692,\n",
       "   'r': 0.5873015873015873,\n",
       "   'f': 0.578125},\n",
       "  'ORGANIZACAO': {'p': 0.6893203883495146,\n",
       "   'r': 0.5725806451612904,\n",
       "   'f': 0.6255506607929515},\n",
       "  'DATA': {'p': 0.8604651162790697,\n",
       "   'r': 0.8809523809523809,\n",
       "   'f': 0.8705882352941177},\n",
       "  'LOCAL': {'p': 0.7722772277227723, 'r': 0.5, 'f': 0.6070038910505836},\n",
       "  'EVENTO': {'p': 0.0, 'r': 0.0, 'f': 0.0}},\n",
       " 'speed': 25558.366820773335}"
      ]
     },
     "execution_count": 38,
     "metadata": {},
     "output_type": "execute_result"
    }
   ],
   "source": [
    "# Evaluation\n",
    "from spacy.training.example import Example\n",
    "\n",
    "nlp_ner = spacy.load(\"./outputs/spacy/model-best\")\n",
    "db_test = DocBin().from_disk(\"./outputs/spacy/test.spacy\")\n",
    "\n",
    "\n",
    "examples = []\n",
    "for doc in db_test.get_docs(nlp_ner.vocab):\n",
    "    examples.append(Example(nlp_ner.make_doc(doc.text), doc))\n",
    "\n",
    "results_spacy = nlp_ner.evaluate(examples)\n",
    "results_spacy"
   ]
  },
  {
   "cell_type": "markdown",
   "id": "829a549d",
   "metadata": {},
   "source": [
    "### Mostrando os resultados de precisão, recall e f1 score para cada uma das entidades usando o Spacy"
   ]
  },
  {
   "cell_type": "code",
   "execution_count": 39,
   "id": "750fbaa5",
   "metadata": {},
   "outputs": [
    {
     "data": {
      "text/html": [
       "<div>\n",
       "<style scoped>\n",
       "    .dataframe tbody tr th:only-of-type {\n",
       "        vertical-align: middle;\n",
       "    }\n",
       "\n",
       "    .dataframe tbody tr th {\n",
       "        vertical-align: top;\n",
       "    }\n",
       "\n",
       "    .dataframe thead th {\n",
       "        text-align: right;\n",
       "    }\n",
       "</style>\n",
       "<table border=\"1\" class=\"dataframe\">\n",
       "  <thead>\n",
       "    <tr style=\"text-align: right;\">\n",
       "      <th></th>\n",
       "      <th>p</th>\n",
       "      <th>r</th>\n",
       "      <th>f</th>\n",
       "    </tr>\n",
       "  </thead>\n",
       "  <tbody>\n",
       "    <tr>\n",
       "      <th>PESSOA</th>\n",
       "      <td>0.785124</td>\n",
       "      <td>0.703704</td>\n",
       "      <td>0.742188</td>\n",
       "    </tr>\n",
       "    <tr>\n",
       "      <th>FUNDAMENTO</th>\n",
       "      <td>0.718121</td>\n",
       "      <td>0.732877</td>\n",
       "      <td>0.725424</td>\n",
       "    </tr>\n",
       "    <tr>\n",
       "      <th>PRODUTODELEI</th>\n",
       "      <td>0.569231</td>\n",
       "      <td>0.587302</td>\n",
       "      <td>0.578125</td>\n",
       "    </tr>\n",
       "    <tr>\n",
       "      <th>ORGANIZACAO</th>\n",
       "      <td>0.689320</td>\n",
       "      <td>0.572581</td>\n",
       "      <td>0.625551</td>\n",
       "    </tr>\n",
       "    <tr>\n",
       "      <th>DATA</th>\n",
       "      <td>0.860465</td>\n",
       "      <td>0.880952</td>\n",
       "      <td>0.870588</td>\n",
       "    </tr>\n",
       "    <tr>\n",
       "      <th>LOCAL</th>\n",
       "      <td>0.772277</td>\n",
       "      <td>0.500000</td>\n",
       "      <td>0.607004</td>\n",
       "    </tr>\n",
       "    <tr>\n",
       "      <th>EVENTO</th>\n",
       "      <td>0.000000</td>\n",
       "      <td>0.000000</td>\n",
       "      <td>0.000000</td>\n",
       "    </tr>\n",
       "  </tbody>\n",
       "</table>\n",
       "</div>"
      ],
      "text/plain": [
       "                     p         r         f\n",
       "PESSOA        0.785124  0.703704  0.742188\n",
       "FUNDAMENTO    0.718121  0.732877  0.725424\n",
       "PRODUTODELEI  0.569231  0.587302  0.578125\n",
       "ORGANIZACAO   0.689320  0.572581  0.625551\n",
       "DATA          0.860465  0.880952  0.870588\n",
       "LOCAL         0.772277  0.500000  0.607004\n",
       "EVENTO        0.000000  0.000000  0.000000"
      ]
     },
     "execution_count": 39,
     "metadata": {},
     "output_type": "execute_result"
    }
   ],
   "source": [
    "import pandas as pd\n",
    "\n",
    "pd.DataFrame(results_spacy[\"ents_per_type\"]).T"
   ]
  },
  {
   "cell_type": "markdown",
   "id": "df9b37a4",
   "metadata": {},
   "source": [
    "## Usando Transformers"
   ]
  },
  {
   "cell_type": "code",
   "execution_count": 41,
   "id": "9c5266c3",
   "metadata": {},
   "outputs": [
    {
     "name": "stderr",
     "output_type": "stream",
     "text": [
      "Some weights of the model checkpoint at neuralmind/bert-base-portuguese-cased were not used when initializing BertForMaskedLM: ['bert.pooler.dense.bias', 'bert.pooler.dense.weight', 'cls.seq_relationship.bias', 'cls.seq_relationship.weight']\n",
      "- This IS expected if you are initializing BertForMaskedLM from the checkpoint of a model trained on another task or with another architecture (e.g. initializing a BertForSequenceClassification model from a BertForPreTraining model).\n",
      "- This IS NOT expected if you are initializing BertForMaskedLM from the checkpoint of a model that you expect to be exactly identical (initializing a BertForSequenceClassification model from a BertForSequenceClassification model).\n"
     ]
    }
   ],
   "source": [
    "from transformers import (\n",
    "    AutoTokenizer,\n",
    "    AutoModelForTokenClassification,\n",
    "    AutoModelForMaskedLM,\n",
    "    pipeline,\n",
    "    AutoConfig,\n",
    ")\n",
    "from datasets import load_dataset\n",
    "from pathlib import Path\n",
    "import torch\n",
    "\n",
    "model_checkpoint = \"neuralmind/bert-base-portuguese-cased\"\n",
    "tokenizer = AutoTokenizer.from_pretrained(model_checkpoint)\n",
    "model = AutoModelForMaskedLM.from_pretrained(model_checkpoint)"
   ]
  },
  {
   "cell_type": "code",
   "execution_count": 52,
   "id": "de28447c",
   "metadata": {},
   "outputs": [
    {
     "data": {
      "text/plain": [
       "['sala', 'das', 'sessões', ',', 'em', 'de', 'de', '2019', '.']"
      ]
     },
     "execution_count": 52,
     "metadata": {},
     "output_type": "execute_result"
    }
   ],
   "source": [
    "juridico_train[0]['tokens']"
   ]
  },
  {
   "cell_type": "code",
   "execution_count": 53,
   "id": "7ea82734",
   "metadata": {},
   "outputs": [
    {
     "data": {
      "text/plain": [
       "'outra face deste processo foi a disseminação dos atendimentos automatizados que , além do custo da tarifa , impõem grande perda de tempo e constrangimento aos usuários .'"
      ]
     },
     "execution_count": 53,
     "metadata": {},
     "output_type": "execute_result"
    }
   ],
   "source": [
    "train_dataset = [\" \".join(payload[\"tokens\"]) for payload in juridico_train]\n",
    "valid_dataset = [\" \".join(payload[\"tokens\"]) for payload in juridico_valid]\n",
    "test_dataset = [\" \".join(payload[\"tokens\"]) for payload in juridico_test]\n",
    "\n",
    "# merge train and valid datasets\n",
    "train_dataset = train_dataset + valid_dataset\n",
    "\n",
    "train_dataset[10]"
   ]
  },
  {
   "cell_type": "code",
   "execution_count": 54,
   "id": "9c158313",
   "metadata": {},
   "outputs": [
    {
     "data": {
      "text/plain": [
       "Dataset({\n",
       "    features: ['text'],\n",
       "    num_rows: 1900\n",
       "})"
      ]
     },
     "execution_count": 54,
     "metadata": {},
     "output_type": "execute_result"
    }
   ],
   "source": [
    "# create huggingface datasets from the lists of texts\n",
    "\n",
    "from datasets import Dataset\n",
    "\n",
    "train_dataset = Dataset.from_dict({\"text\": train_dataset})\n",
    "test_dataset = Dataset.from_dict({\"text\": test_dataset})\n",
    "\n",
    "train_dataset = train_dataset.shuffle(seed=271828)\n",
    "train_dataset"
   ]
  },
  {
   "cell_type": "code",
   "execution_count": 55,
   "id": "d15b00c2",
   "metadata": {},
   "outputs": [],
   "source": [
    "path_to_save_lm = Path(\"./outputs/bert_masked_lm\")\n",
    "path_to_save_lm.mkdir(parents=True, exist_ok=True)"
   ]
  },
  {
   "cell_type": "code",
   "execution_count": 56,
   "id": "1fb17a1b",
   "metadata": {},
   "outputs": [
    {
     "data": {
      "application/vnd.jupyter.widget-view+json": {
       "model_id": "7fc2073ecf2c496d847f978ce07eaa96",
       "version_major": 2,
       "version_minor": 0
      },
      "text/plain": [
       "Map:   0%|          | 0/1900 [00:00<?, ? examples/s]"
      ]
     },
     "metadata": {},
     "output_type": "display_data"
    },
    {
     "data": {
      "application/vnd.jupyter.widget-view+json": {
       "model_id": "caffa58e045a42b9b609712906dcf337",
       "version_major": 2,
       "version_minor": 0
      },
      "text/plain": [
       "Map:   0%|          | 0/592 [00:00<?, ? examples/s]"
      ]
     },
     "metadata": {},
     "output_type": "display_data"
    }
   ],
   "source": [
    "def tokenize_function(examples):\n",
    "    \"\"\"\n",
    "    Tokenizes the input text in the given examples using the tokenizer object.\n",
    "\n",
    "    Args:\n",
    "    - examples: A dictionary containing the input text to be tokenized.\n",
    "\n",
    "    Returns:\n",
    "    - A dictionary containing the tokenized input text.\n",
    "    \"\"\"\n",
    "    result = tokenizer(examples[\"text\"])\n",
    "    if tokenizer.is_fast:\n",
    "        result[\"word_ids\"] = [\n",
    "            result.word_ids(i) for i in range(len(result[\"input_ids\"]))\n",
    "        ]\n",
    "    return result\n",
    "\n",
    "\n",
    "# Tokenize the datasets. This is the step where we convert the text to numerical representations of the tokens\n",
    "tokenized_train = train_dataset.map(\n",
    "    tokenize_function, batched=True, remove_columns=[\"text\"]\n",
    ")\n",
    "tokenized_test = test_dataset.map(\n",
    "    tokenize_function, batched=True, remove_columns=[\"text\"]\n",
    ")"
   ]
  },
  {
   "cell_type": "code",
   "execution_count": 57,
   "id": "54650276",
   "metadata": {},
   "outputs": [
    {
     "data": {
      "text/plain": [
       "{'input_ids': [101,\n",
       "  146,\n",
       "  16975,\n",
       "  1772,\n",
       "  9835,\n",
       "  154,\n",
       "  131,\n",
       "  1328,\n",
       "  119,\n",
       "  100,\n",
       "  146,\n",
       "  1328,\n",
       "  119,\n",
       "  100,\n",
       "  180,\n",
       "  2241,\n",
       "  100,\n",
       "  1193,\n",
       "  119,\n",
       "  17909,\n",
       "  22338,\n",
       "  117,\n",
       "  125,\n",
       "  2336,\n",
       "  125,\n",
       "  1512,\n",
       "  125,\n",
       "  5232,\n",
       "  1379,\n",
       "  9999,\n",
       "  171,\n",
       "  18043,\n",
       "  148,\n",
       "  310,\n",
       "  1379,\n",
       "  1425,\n",
       "  123,\n",
       "  8773,\n",
       "  159,\n",
       "  5103,\n",
       "  1859,\n",
       "  171,\n",
       "  1457,\n",
       "  204,\n",
       "  100,\n",
       "  117,\n",
       "  12963,\n",
       "  118,\n",
       "  176,\n",
       "  146,\n",
       "  20737,\n",
       "  6257,\n",
       "  2232,\n",
       "  171,\n",
       "  4319,\n",
       "  10764,\n",
       "  173,\n",
       "  204,\n",
       "  100,\n",
       "  131,\n",
       "  107,\n",
       "  204,\n",
       "  100,\n",
       "  2810,\n",
       "  12119,\n",
       "  251,\n",
       "  123,\n",
       "  19231,\n",
       "  171,\n",
       "  6330,\n",
       "  625,\n",
       "  20075,\n",
       "  6944,\n",
       "  2738,\n",
       "  12507,\n",
       "  125,\n",
       "  123,\n",
       "  4857,\n",
       "  10907,\n",
       "  22282,\n",
       "  2113,\n",
       "  4654,\n",
       "  5245,\n",
       "  117,\n",
       "  2557,\n",
       "  291,\n",
       "  173,\n",
       "  1028,\n",
       "  11055,\n",
       "  179,\n",
       "  6554,\n",
       "  8814,\n",
       "  146,\n",
       "  347,\n",
       "  1700,\n",
       "  119,\n",
       "  22354,\n",
       "  102],\n",
       " 'token_type_ids': [0,\n",
       "  0,\n",
       "  0,\n",
       "  0,\n",
       "  0,\n",
       "  0,\n",
       "  0,\n",
       "  0,\n",
       "  0,\n",
       "  0,\n",
       "  0,\n",
       "  0,\n",
       "  0,\n",
       "  0,\n",
       "  0,\n",
       "  0,\n",
       "  0,\n",
       "  0,\n",
       "  0,\n",
       "  0,\n",
       "  0,\n",
       "  0,\n",
       "  0,\n",
       "  0,\n",
       "  0,\n",
       "  0,\n",
       "  0,\n",
       "  0,\n",
       "  0,\n",
       "  0,\n",
       "  0,\n",
       "  0,\n",
       "  0,\n",
       "  0,\n",
       "  0,\n",
       "  0,\n",
       "  0,\n",
       "  0,\n",
       "  0,\n",
       "  0,\n",
       "  0,\n",
       "  0,\n",
       "  0,\n",
       "  0,\n",
       "  0,\n",
       "  0,\n",
       "  0,\n",
       "  0,\n",
       "  0,\n",
       "  0,\n",
       "  0,\n",
       "  0,\n",
       "  0,\n",
       "  0,\n",
       "  0,\n",
       "  0,\n",
       "  0,\n",
       "  0,\n",
       "  0,\n",
       "  0,\n",
       "  0,\n",
       "  0,\n",
       "  0,\n",
       "  0,\n",
       "  0,\n",
       "  0,\n",
       "  0,\n",
       "  0,\n",
       "  0,\n",
       "  0,\n",
       "  0,\n",
       "  0,\n",
       "  0,\n",
       "  0,\n",
       "  0,\n",
       "  0,\n",
       "  0,\n",
       "  0,\n",
       "  0,\n",
       "  0,\n",
       "  0,\n",
       "  0,\n",
       "  0,\n",
       "  0,\n",
       "  0,\n",
       "  0,\n",
       "  0,\n",
       "  0,\n",
       "  0,\n",
       "  0,\n",
       "  0,\n",
       "  0,\n",
       "  0,\n",
       "  0,\n",
       "  0,\n",
       "  0,\n",
       "  0,\n",
       "  0],\n",
       " 'attention_mask': [1,\n",
       "  1,\n",
       "  1,\n",
       "  1,\n",
       "  1,\n",
       "  1,\n",
       "  1,\n",
       "  1,\n",
       "  1,\n",
       "  1,\n",
       "  1,\n",
       "  1,\n",
       "  1,\n",
       "  1,\n",
       "  1,\n",
       "  1,\n",
       "  1,\n",
       "  1,\n",
       "  1,\n",
       "  1,\n",
       "  1,\n",
       "  1,\n",
       "  1,\n",
       "  1,\n",
       "  1,\n",
       "  1,\n",
       "  1,\n",
       "  1,\n",
       "  1,\n",
       "  1,\n",
       "  1,\n",
       "  1,\n",
       "  1,\n",
       "  1,\n",
       "  1,\n",
       "  1,\n",
       "  1,\n",
       "  1,\n",
       "  1,\n",
       "  1,\n",
       "  1,\n",
       "  1,\n",
       "  1,\n",
       "  1,\n",
       "  1,\n",
       "  1,\n",
       "  1,\n",
       "  1,\n",
       "  1,\n",
       "  1,\n",
       "  1,\n",
       "  1,\n",
       "  1,\n",
       "  1,\n",
       "  1,\n",
       "  1,\n",
       "  1,\n",
       "  1,\n",
       "  1,\n",
       "  1,\n",
       "  1,\n",
       "  1,\n",
       "  1,\n",
       "  1,\n",
       "  1,\n",
       "  1,\n",
       "  1,\n",
       "  1,\n",
       "  1,\n",
       "  1,\n",
       "  1,\n",
       "  1,\n",
       "  1,\n",
       "  1,\n",
       "  1,\n",
       "  1,\n",
       "  1,\n",
       "  1,\n",
       "  1,\n",
       "  1,\n",
       "  1,\n",
       "  1,\n",
       "  1,\n",
       "  1,\n",
       "  1,\n",
       "  1,\n",
       "  1,\n",
       "  1,\n",
       "  1,\n",
       "  1,\n",
       "  1,\n",
       "  1,\n",
       "  1,\n",
       "  1,\n",
       "  1,\n",
       "  1,\n",
       "  1,\n",
       "  1],\n",
       " 'word_ids': [None,\n",
       "  0,\n",
       "  1,\n",
       "  2,\n",
       "  3,\n",
       "  3,\n",
       "  4,\n",
       "  5,\n",
       "  6,\n",
       "  7,\n",
       "  8,\n",
       "  9,\n",
       "  10,\n",
       "  11,\n",
       "  12,\n",
       "  13,\n",
       "  14,\n",
       "  15,\n",
       "  16,\n",
       "  17,\n",
       "  17,\n",
       "  18,\n",
       "  19,\n",
       "  20,\n",
       "  21,\n",
       "  22,\n",
       "  23,\n",
       "  24,\n",
       "  25,\n",
       "  26,\n",
       "  27,\n",
       "  28,\n",
       "  28,\n",
       "  28,\n",
       "  29,\n",
       "  30,\n",
       "  31,\n",
       "  32,\n",
       "  32,\n",
       "  33,\n",
       "  33,\n",
       "  34,\n",
       "  35,\n",
       "  36,\n",
       "  37,\n",
       "  38,\n",
       "  39,\n",
       "  40,\n",
       "  41,\n",
       "  42,\n",
       "  43,\n",
       "  43,\n",
       "  44,\n",
       "  45,\n",
       "  46,\n",
       "  47,\n",
       "  48,\n",
       "  49,\n",
       "  50,\n",
       "  51,\n",
       "  52,\n",
       "  53,\n",
       "  54,\n",
       "  55,\n",
       "  56,\n",
       "  56,\n",
       "  57,\n",
       "  58,\n",
       "  59,\n",
       "  60,\n",
       "  61,\n",
       "  62,\n",
       "  63,\n",
       "  63,\n",
       "  64,\n",
       "  65,\n",
       "  66,\n",
       "  67,\n",
       "  68,\n",
       "  68,\n",
       "  69,\n",
       "  70,\n",
       "  70,\n",
       "  71,\n",
       "  72,\n",
       "  73,\n",
       "  74,\n",
       "  75,\n",
       "  76,\n",
       "  77,\n",
       "  78,\n",
       "  78,\n",
       "  79,\n",
       "  80,\n",
       "  81,\n",
       "  82,\n",
       "  83,\n",
       "  None]}"
      ]
     },
     "execution_count": 57,
     "metadata": {},
     "output_type": "execute_result"
    }
   ],
   "source": [
    "tokenized_train[1]"
   ]
  },
  {
   "cell_type": "code",
   "execution_count": 59,
   "id": "2bfa40dc",
   "metadata": {},
   "outputs": [
    {
     "data": {
      "application/vnd.jupyter.widget-view+json": {
       "model_id": "806bd4d0d8fd48e3b63f5d2b01a7d0ca",
       "version_major": 2,
       "version_minor": 0
      },
      "text/plain": [
       "Map:   0%|          | 0/1900 [00:00<?, ? examples/s]"
      ]
     },
     "metadata": {},
     "output_type": "display_data"
    },
    {
     "data": {
      "application/vnd.jupyter.widget-view+json": {
       "model_id": "8ce937a074a940fba63fe814601ebb85",
       "version_major": 2,
       "version_minor": 0
      },
      "text/plain": [
       "Map:   0%|          | 0/592 [00:00<?, ? examples/s]"
      ]
     },
     "metadata": {},
     "output_type": "display_data"
    }
   ],
   "source": [
    "def group_texts(examples):\n",
    "    \"\"\"\n",
    "    This function groups together a set of texts as contiguous text of fixed length (chunk_size). It's useful for training masked language models.\n",
    "\n",
    "    Args:\n",
    "    - examples: A dictionary containing the examples to group. Each key corresponds to a feature, and each value is a list of lists of tokens.\n",
    "\n",
    "    Returns:\n",
    "    - A dictionary containing the grouped examples. Each key corresponds to a feature, and each value is a list of lists of tokens.\n",
    "    \"\"\"\n",
    "    # Concatenate all texts\n",
    "    concatenated_examples = {k: sum(examples[k], []) for k in examples.keys()}\n",
    "    # Compute length of concatenated texts\n",
    "    total_length = len(concatenated_examples[list(examples.keys())[0]])\n",
    "    # We drop the last chunk if it's smaller than chunk_size\n",
    "    total_length = (total_length // chunk_size) * chunk_size\n",
    "    # Split by chunks of max_len\n",
    "    result = {\n",
    "        k: [t[i : i + chunk_size] for i in range(0, total_length, chunk_size)]\n",
    "        for k, t in concatenated_examples.items()\n",
    "    }\n",
    "    # Create a new labels column\n",
    "    result[\"labels\"] = result[\"input_ids\"].copy()\n",
    "    return result\n",
    "\n",
    "\n",
    "chunk_size = 512\n",
    "\n",
    "tokenized_train = tokenized_train.map(\n",
    "    group_texts,\n",
    "    batched=True,\n",
    ")\n",
    "\n",
    "tokenized_test = tokenized_test.map(\n",
    "    group_texts,\n",
    "    batched=True,\n",
    ")"
   ]
  },
  {
   "cell_type": "code",
   "execution_count": 60,
   "id": "22a9224c",
   "metadata": {},
   "outputs": [
    {
     "name": "stdout",
     "output_type": "stream",
     "text": [
      "The number of tokens in the 0th text is 512\n",
      "The number of tokens in the 1th text is 512\n",
      "The number of tokens in the 2th text is 512\n",
      "The number of tokens in the 3th text is 512\n",
      "The number of tokens in the 4th text is 512\n",
      "The number of tokens in the 5th text is 512\n",
      "The number of tokens in the 6th text is 512\n",
      "The number of tokens in the 7th text is 512\n",
      "The number of tokens in the 8th text is 512\n",
      "The number of tokens in the 9th text is 512\n",
      "The number of tokens in the 10th text is 512\n",
      "The number of tokens in the 11th text is 512\n",
      "The number of tokens in the 12th text is 512\n",
      "The number of tokens in the 13th text is 512\n",
      "The number of tokens in the 14th text is 512\n",
      "The number of tokens in the 15th text is 512\n",
      "The number of tokens in the 16th text is 512\n",
      "The number of tokens in the 17th text is 512\n",
      "The number of tokens in the 18th text is 512\n",
      "The number of tokens in the 19th text is 512\n",
      "The number of tokens in the 20th text is 512\n",
      "The number of tokens in the 21th text is 512\n",
      "The number of tokens in the 22th text is 512\n",
      "The number of tokens in the 23th text is 512\n",
      "The number of tokens in the 24th text is 512\n",
      "The number of tokens in the 25th text is 512\n",
      "The number of tokens in the 26th text is 512\n",
      "The number of tokens in the 27th text is 512\n",
      "The number of tokens in the 28th text is 512\n",
      "The number of tokens in the 29th text is 512\n"
     ]
    }
   ],
   "source": [
    "for i in range(30):\n",
    "    print(\n",
    "        f'The number of tokens in the {i}th text is {len(tokenized_train[i][\"input_ids\"])}'\n",
    "    )"
   ]
  },
  {
   "cell_type": "code",
   "execution_count": 64,
   "id": "71d3029d",
   "metadata": {},
   "outputs": [
    {
     "name": "stdout",
     "output_type": "stream",
     "text": [
      "[CLS] diversas comissões permanentes e temporárias, tanto da câmara como do senado federal, examinaram as conseqüências da política indigenista nacional e constataram graves conflitos federativos que contrapõem estados e municípios à união, colocando os primeiros em risco de profundas intervenções em sua autonomia, quando não de pura e simples extinção. [SEP] [CLS] o congresso nacional decreta : art. [UNK] o art. [UNK] da lei [UNK] 10. 826, de 22 de dezembro de 2003 – estatuto do desarmamento – passa a vigorar acrescido do seguinte § [UNK], transformando - se o parágrafo único do artigo mencionado em § [UNK] : \" § [UNK] será dispensada a exigência do registro quando houver impossibilidade absoluta de a arma disparar porque danificada, antiga ou em outras circunstâncias que impeçam o seu uso. ” [SEP] [CLS] com este objetivo, estamos propondo que as casas de espetáculos, shopping centers, cinemas, parques temáticos e outros estabelecimentos sejam obrigados a disponibilizarem em suas instalações bebedouros com água gelada, para consumo de seus frequentadores. [SEP] [CLS] ii - os lotes terão área mínima de [UNK] ( cento e vinte e cinco metros quadrados ) e frente mínima de 5 ( cinco ) metros, salvo quando o loteamento se destinar a urbanização específica ou edificação de conjuntos habitacionais de interesse social, previamente aprovados pelos órgãos públicos competentes ;...................................................................................................... [SEP] [CLS] cada poder detalhará, em seu âmbito, as informações serem disponibilizadas, bem como a forma de divulgação. [SEP] [CLS] no mato grosso do sul, uma área de 10 milhões de hectares de terra fértil, que inclui as localidades de dourados, miranda, 3 naviraí, rio brilhante e maracaju, está hoje sob as pretensões da funai para demarcação. [SEP] [CLS] portanto, a fim de prestigiar a categoria desses trabalhadores essenciais ao meio ambiente, contamos com o apoio de nossos pares para aprovar a presente proposição. [SEP] [CLS] convictos do acerto das medidas ora propostas, convocamos\n",
      "os nobres pares desta casa para aprovar o presente projeto de lei. [SEP] [CLS] o texto que ora propomos inclui, nas diretrizes de política de saneamento, a adoção desses instrumentos, com critérios técnicos bem definidos. [SEP] [CLS] entendemos que essa medida possibilitará uma melhor reflexão ao adolescente infrator, na hora de deparar - se com a chance de cometer nova infração. [SEP] [CLS] pena - reclusão de um a três anos. ” ( nr ) “ art. 244 - a.................................................................................... [SEP] [CLS] por um lado, o governo federal pretende melhorar o atendimento às populações carentes dos municípios por meio de transferências realizada pelo programa saúde da família. [SEP] [CLS] p l n. 4 8 9 2 / 2 0 1 9 a p re s e n ta [UNK] [UNK] o : 0 4 / 0 9 / 2 0 1 9 1 8 : 4 4 5 com tais medidas pretendemos ampliar a transparência do gasto público com publicidade para permitir uma fiscalização mais efetiva por parte dos cidadãos e da sociedade civil organizada sobre os gastos governamentais com publicidade e propaganda, além de impor óbices adicionais ao uso de recursos públicos para promoção pessoal. [SEP] [CLS] por outro, entretanto, a lei de responsabilidade fiscal estabelece como limite máximo das despesas de pessoal o percentual de sessenta por cento das receitas correntes líquidas. 2 câmara dos deputados as duas coisas não podem ser feitas simultaneamente, senhor presidente, senhoras e senhores deputados. [SEP] [CLS] um estudante da paraíba não deixa de sê - lo, por atravessar a fronteira para o rio grande do norte ou para pernambuco. [SEP] [CLS] p l n. 4 4 8 2 / 2 0 1 9 a p re s e n ta [UNK] [UNK] o : 1 4 / 0 8 / 2 0 1 9 1 7 : 2 3 câmara dos deputados justificação as comunidades terapêuticas ( cts ) são instituições privadas, sem fins lucrativos, que prestam serviços de acolhimento de pessoas com transtornos decorrentes do uso, abuso ou dependência de substâncias psicoativas. [SEP] [CLS] no caso do governo brasileiro, segundo levantamento do site poder360 1, o poder executivo gastou mais de r $ 30\n",
      "bilhões de reais com publicidade entre os anos 2000 e 2016. [SEP] [CLS] para tanto, são considerados, entre outros aspectos, o custo de produção em diversas regiões produtoras e as expectativas de preços dos mercados interno e externo para o período de comercialização. [SEP] [CLS] o congresso nacional decreta : art. 1 ° - fica instituído o cadastro nacional de pesquisa em drogas experimentais para o tratamento do câncer – banco nacional de combate ao câncer. [SEP] [CLS] art. [UNK]. [SEP] [CLS] o país tem sido convidado, desde então, a participar dos principais eventos da união africana, na condição de observador. 4 quanto às relações diplomáticas e econômicas, o número de embaixadas brasileiras no continente africano duplicou e o intercâmbio comercial entre 2003 e 2014 passou de seis para quase vinte e sete bilhões de dólares 5, sendo os principais parceiros : áfrica do sul, egito, argélia, angola, nigéria e marrocos. 6 além de todo o exposto, a união africana é um organismo político e de representação dos estados do continente a qual conta com um parlamento, o chamado parlamento pan - africano, cuja função é assegurar a participação dos povos africanos na governação, desenvolvimento e integração econômica do continente, por meio do controle e apoio aos parlamentos dos estados - membros da união africana. [SEP] [CLS] só uma análise profunda e cuidadosa, realizada caso a caso, possibilitará a adoção dos cuidados mínimos necessários para proteger a saúde da população. [SEP] [CLS] a alteração proposta amplia o prazo atual de três anos, aliás já transcorrido, para cinco anos, mantendo a possibilidade de renová - lo por igual período. [SEP] [CLS] afigura - se necessário, portanto, o reconhecimento do custo de capital que ainda não tenha sido incorporado às tarifas de transmissão de energia elétrica, entre a data de prorrogação das concessões e o seu efetivo reconhecimento na tarifa de transmissão. 2 o despacho do diretor - geral da aneel [UNK] 1. 779, de 23 / 06 / 2017, comunicou a decisão de “ desconsiderar o disposto no § [UNK] do art. [UNK] da resolução normativa [UNK] 762, de 21 de fevereiro de 2017, dos critérios de cálculo da receita anual permitida para o ciclo tarifário 2017 - 2018 ”. [SEP] [CLS] esses números evidenciam tanto um dispêndio excessivo e incompatível com as restrições fiscais do brasil, assim como um direcionamento desses gastos para beneficiar, eleitoralmente, o grupo político no poder e que almeja continuar. [SEP] [CLS] § 15 quando a pessoa tiver prestado\n",
      "os cuidados por menos de quinze anos, observadas as condições previstas nos incisos i a iv do § 14 deste artigo, é assegurado o pagamento do benefício de prestação continuada pelo período de um ano. ” [SEP] [CLS] justificação a utilização de banco de dados tem sido frequente no brasil atual. [SEP] [CLS] o próprio supremo tribunal federal, aliás, já reconheceu que “ a constituição federal se limita, no art. [UNK], xlii e xliv, a excluir os crimes que enumera da incidência material das regras da prescrição, sem proibir, em tese, que a legislação ordinária crie outras hipóteses ” ( re 460971, relator ministro sepúlveda pertence, primeira turma, julgado em 13 / 02 / 2007 ). [SEP] [CLS] ora, a igualdade não diz respeito apenas ao tratamento que os indivíduos e os grupos recebem do estado, mas também ao reconhecimento da capacidade de todos para representar a coletividade e exercer o poder público. [SEP] [CLS] julgamos oportuno propor novo projeto, mais sucinto, que reconhece a importância desses profissionais, define suas atribuições e estabelece sua jornada. [SEP] [CLS] assim, a fim de obter uma maior eficácia dos semáforos estamos propondo neste projeto de lei que todos eles sejam modernizados, ou seja, obrigatoriamente equipados com temporizadores. [SEP] [CLS] projeto de lei [UNK], de 2019 ( do sr. diego garcia ) institui a política nacional de promoção, proteção e apoio ao aleitamento materno. [SEP] [CLS] ronaldo carletto ) autoriza o poder executivo a disponibilizar, em âmbito nacional, número telefônico destinado a informar sobre os direitos da pessoa com deficiência e receber denúncias sobre seu descumprimento. [SEP] [CLS] § [UNK] o disposto no inciso i aplica - se a empresa nova ou a já existente [SEP] [CLS] o presente projeto propõe a exclusão da informação inserida de forma indevida dos bancos de dados públicos, inclusive os ligados aos órgãos de segurança pública, comprovada a má - fé do agente causador do fato. [SEP] [CLS] não obstante as ambiciosas metas constantes do plano nacional de turismo, a atual política setorial reservou um espaço tímido ao agroturismo ou turismo rural. [SEP] [CLS] deputado paulo bengtson ptb / pa p l n. 4 8 5 1 / 2 0 1 9 a p re s e n ta [UNK] [UNK] o : 0 3 / 0 9 / 2 0 1 9 1 9 : 0 1 [SEP] [CLS] sendo uma patologia,\n",
      "precisa ser combatida completamente, desde a prevenção do consumo inicial, até a recuperação total dos dependentes por meio de tratamentos eficazes. [SEP] [CLS] deputado ronaldo carletto 2019 - 469 [SEP] [CLS] além disso, 42 % ( quarenta e dois por cento ) ocorreram no ambiente doméstico. [SEP] [CLS] § [UNK] para o cumprimento do disposto no caput, as programações orçamentárias e financeiras relacionadas a obras públicas serão identificadas na lei orçamentária, bem como nos créditos adicionais, por programas, projetos, atividades ou operações especiais e respectivos subtítulos, com indicação, quando for o caso, do produto, da unidade de medida, da meta física e de código identificador das coordenadas geográficas em que a ação de governo será implementada. [SEP] [CLS] por esse motivo, elaboramos o presente projeto de lei com o intuito de alterar o estatuto da criança e do adolescente, vedando a veiculação de propagandas destinadas especificamente para as crianças no período das 7 às 22 horas. [SEP] [CLS] diante do exposto, solicitamos apoio aos nobres pares para que aprovem este projeto de lei. [SEP] [CLS] desse modo, fica seriamente comprometida a renda que deveria ser destinada ao sustento do idoso, a fim de garantir - lhe condições dignas de sobrevivência. [SEP] [CLS] o setor da construção civil pode dar uma importante contribuição nesse sentido com a substituição da madeira de floresta nativa pela madeira de floresta plantada. [SEP] [CLS] os problemas ambientais ao contrário do que se imagina não estão distantes de nosso cotidiano, eles se fazem presente no meio urbano muito próximos de todos nós, nas grandes cidades ou até mesmo nas pequenas comunidades locais. [SEP] [CLS] é nesse contexto que propomos uma alteração na legislação trabalhista para permitir a utilização dos serviços notariais neste esforço nacional de desburocratização. [SEP] [CLS] art. [UNK] as informações exigidas conforme o disposto no art. [UNK] desta lei deverão ser inclusas em embalagens de produtos processados e in natura, separadamente da listagem de ingredientes e tabela de informações nutricionais, com a especificação de que se tratam de produtos químicos utilizados durante a confecção, processamento, produção ou industrialização do alimento. [SEP] [CLS] esse grave acontecimento veio somar - se àquele ocorrido na usina de tchernobyl, na ucrânia, no dia 26 de abril de 1986, em cuja região persiste, até hoje, a contaminação do ambiente em níveis impróprios para o ser humano. [SEP] [CLS] art. [UNK] esta lei entra em vigor na data de sua publicação. [SEP] [CLS] não são raras\n"
     ]
    }
   ],
   "source": [
    "for i in range(5):\n",
    "    print(tokenizer.decode(tokenized_train[i][\"input_ids\"]))"
   ]
  },
  {
   "cell_type": "code",
   "execution_count": 65,
   "id": "a4d6cdc4",
   "metadata": {},
   "outputs": [],
   "source": [
    "from transformers import DataCollatorForLanguageModeling\n",
    "\n",
    "data_collator = DataCollatorForLanguageModeling(\n",
    "    tokenizer=tokenizer, mlm_probability=0.15\n",
    ")"
   ]
  },
  {
   "cell_type": "code",
   "execution_count": 66,
   "id": "825ef6a8",
   "metadata": {},
   "outputs": [],
   "source": [
    "from transformers import TrainingArguments\n",
    "\n",
    "# Define the batch size for training\n",
    "training_batch_size = 24\n",
    "\n",
    "# Extract the model name from the model checkpoint\n",
    "model_name = model_checkpoint.split(\"/\")[-1]\n",
    "\n",
    "# Define the training arguments\n",
    "training_arguments = TrainingArguments(\n",
    "    # Define the output directory for the trained model\n",
    "    output_dir=path_to_save_lm / f\"{model_name}-finetuned-lener\",\n",
    "    # Overwrite the output directory if it already exists\n",
    "    overwrite_output_dir=True,\n",
    "    # Evaluate the model after every epoch\n",
    "    eval_strategy=\"epoch\",\n",
    "    # Set the learning rate\n",
    "    learning_rate=3e-5,\n",
    "    # Set the weight decay\n",
    "    weight_decay=0.01,\n",
    "    # Set the batch size for training\n",
    "    per_device_train_batch_size=training_batch_size,\n",
    "    # Set the batch size for evaluation\n",
    "    per_device_eval_batch_size=training_batch_size,\n",
    "    # Use mixed precision training\n",
    "    bf16=True,\n",
    "    # Log the training loss after every 5 steps\n",
    "    logging_steps=5,\n",
    "    # Log strategy\n",
    "    logging_strategy=\"steps\",\n",
    "    # Train the model for 20 epochs\n",
    "    num_train_epochs=20,\n",
    "    # Save only the best model\n",
    "    save_total_limit=1,\n",
    "    # Save the model after every epoch\n",
    "    save_strategy=\"epoch\",\n",
    "    # Load the best model at the end of training\n",
    "    load_best_model_at_end=True,\n",
    "    # Use the evaluation loss to determine the best model\n",
    "    metric_for_best_model=\"eval_loss\",\n",
    "    # Lower evaluation loss is better\n",
    "    greater_is_better=False,\n",
    "    # Accumulate gradients for 1 steps before performing an update\n",
    "    gradient_accumulation_steps=1,\n",
    "    # Set the random seed for reproducibility\n",
    "    seed=271828,\n",
    ")"
   ]
  },
  {
   "cell_type": "code",
   "execution_count": 67,
   "id": "fd704fdb",
   "metadata": {},
   "outputs": [],
   "source": [
    "from transformers import Trainer\n",
    "\n",
    "trainer = Trainer(\n",
    "    model=model,\n",
    "    args=training_arguments,\n",
    "    train_dataset=tokenized_train,\n",
    "    eval_dataset=tokenized_test,\n",
    "    data_collator=data_collator,\n",
    "    processing_class=tokenizer,\n",
    ")"
   ]
  },
  {
   "cell_type": "code",
   "execution_count": 70,
   "id": "3f0d1030",
   "metadata": {},
   "outputs": [
    {
     "name": "stderr",
     "output_type": "stream",
     "text": [
      "\u001b[34m\u001b[1mwandb\u001b[0m: \u001b[33mWARNING\u001b[0m The `run_name` is currently set to the same value as `TrainingArguments.output_dir`. If this was not intended, please specify a different run name by setting the `TrainingArguments.run_name` parameter.\n",
      "\u001b[34m\u001b[1mwandb\u001b[0m: Using wandb-core as the SDK backend.  Please refer to https://wandb.me/wandb-core for more information.\n",
      "\u001b[34m\u001b[1mwandb\u001b[0m: Currently logged in as: \u001b[33mjoseluan\u001b[0m (\u001b[33mtomazfil-team\u001b[0m) to \u001b[32mhttps://api.wandb.ai\u001b[0m. Use \u001b[1m`wandb login --relogin`\u001b[0m to force relogin\n"
     ]
    },
    {
     "data": {
      "text/html": [
       "Tracking run with wandb version 0.19.8"
      ],
      "text/plain": [
       "<IPython.core.display.HTML object>"
      ]
     },
     "metadata": {},
     "output_type": "display_data"
    },
    {
     "data": {
      "text/html": [
       "Run data is saved locally in <code>c:\\Users\\josel\\Documents\\UFRN\\PLN\\imd1107-nlp\\wandb\\run-20250722_180048-lwshxdzt</code>"
      ],
      "text/plain": [
       "<IPython.core.display.HTML object>"
      ]
     },
     "metadata": {},
     "output_type": "display_data"
    },
    {
     "data": {
      "text/html": [
       "Syncing run <strong><a href='https://wandb.ai/tomazfil-team/huggingface/runs/lwshxdzt' target=\"_blank\">outputs\\bert_masked_lm\\bert-base-portuguese-cased-finetuned-lener</a></strong> to <a href='https://wandb.ai/tomazfil-team/huggingface' target=\"_blank\">Weights & Biases</a> (<a href='https://wandb.me/developer-guide' target=\"_blank\">docs</a>)<br>"
      ],
      "text/plain": [
       "<IPython.core.display.HTML object>"
      ]
     },
     "metadata": {},
     "output_type": "display_data"
    },
    {
     "data": {
      "text/html": [
       " View project at <a href='https://wandb.ai/tomazfil-team/huggingface' target=\"_blank\">https://wandb.ai/tomazfil-team/huggingface</a>"
      ],
      "text/plain": [
       "<IPython.core.display.HTML object>"
      ]
     },
     "metadata": {},
     "output_type": "display_data"
    },
    {
     "data": {
      "text/html": [
       " View run at <a href='https://wandb.ai/tomazfil-team/huggingface/runs/lwshxdzt' target=\"_blank\">https://wandb.ai/tomazfil-team/huggingface/runs/lwshxdzt</a>"
      ],
      "text/plain": [
       "<IPython.core.display.HTML object>"
      ]
     },
     "metadata": {},
     "output_type": "display_data"
    },
    {
     "data": {
      "text/html": [
       "\n",
       "    <div>\n",
       "      \n",
       "      <progress value='160' max='160' style='width:300px; height:20px; vertical-align: middle;'></progress>\n",
       "      [160/160 42:16, Epoch 20/20]\n",
       "    </div>\n",
       "    <table border=\"1\" class=\"dataframe\">\n",
       "  <thead>\n",
       " <tr style=\"text-align: left;\">\n",
       "      <th>Epoch</th>\n",
       "      <th>Training Loss</th>\n",
       "      <th>Validation Loss</th>\n",
       "    </tr>\n",
       "  </thead>\n",
       "  <tbody>\n",
       "    <tr>\n",
       "      <td>1</td>\n",
       "      <td>5.885800</td>\n",
       "      <td>1.827268</td>\n",
       "    </tr>\n",
       "    <tr>\n",
       "      <td>2</td>\n",
       "      <td>1.668900</td>\n",
       "      <td>1.454275</td>\n",
       "    </tr>\n",
       "    <tr>\n",
       "      <td>3</td>\n",
       "      <td>1.453600</td>\n",
       "      <td>1.355761</td>\n",
       "    </tr>\n",
       "    <tr>\n",
       "      <td>4</td>\n",
       "      <td>1.351600</td>\n",
       "      <td>1.378014</td>\n",
       "    </tr>\n",
       "    <tr>\n",
       "      <td>5</td>\n",
       "      <td>1.288400</td>\n",
       "      <td>1.243117</td>\n",
       "    </tr>\n",
       "    <tr>\n",
       "      <td>6</td>\n",
       "      <td>1.279300</td>\n",
       "      <td>1.177490</td>\n",
       "    </tr>\n",
       "    <tr>\n",
       "      <td>7</td>\n",
       "      <td>1.212600</td>\n",
       "      <td>1.133929</td>\n",
       "    </tr>\n",
       "    <tr>\n",
       "      <td>8</td>\n",
       "      <td>1.192600</td>\n",
       "      <td>1.170697</td>\n",
       "    </tr>\n",
       "    <tr>\n",
       "      <td>9</td>\n",
       "      <td>1.189200</td>\n",
       "      <td>1.153129</td>\n",
       "    </tr>\n",
       "    <tr>\n",
       "      <td>10</td>\n",
       "      <td>1.175600</td>\n",
       "      <td>1.084977</td>\n",
       "    </tr>\n",
       "    <tr>\n",
       "      <td>11</td>\n",
       "      <td>1.125900</td>\n",
       "      <td>1.073442</td>\n",
       "    </tr>\n",
       "    <tr>\n",
       "      <td>12</td>\n",
       "      <td>1.118900</td>\n",
       "      <td>1.089648</td>\n",
       "    </tr>\n",
       "    <tr>\n",
       "      <td>13</td>\n",
       "      <td>1.125500</td>\n",
       "      <td>1.133104</td>\n",
       "    </tr>\n",
       "    <tr>\n",
       "      <td>14</td>\n",
       "      <td>1.152200</td>\n",
       "      <td>1.082507</td>\n",
       "    </tr>\n",
       "    <tr>\n",
       "      <td>15</td>\n",
       "      <td>1.069300</td>\n",
       "      <td>1.066298</td>\n",
       "    </tr>\n",
       "    <tr>\n",
       "      <td>16</td>\n",
       "      <td>1.120000</td>\n",
       "      <td>1.089869</td>\n",
       "    </tr>\n",
       "    <tr>\n",
       "      <td>17</td>\n",
       "      <td>1.127500</td>\n",
       "      <td>1.140951</td>\n",
       "    </tr>\n",
       "    <tr>\n",
       "      <td>18</td>\n",
       "      <td>1.088500</td>\n",
       "      <td>1.079810</td>\n",
       "    </tr>\n",
       "    <tr>\n",
       "      <td>19</td>\n",
       "      <td>1.079400</td>\n",
       "      <td>1.012989</td>\n",
       "    </tr>\n",
       "    <tr>\n",
       "      <td>20</td>\n",
       "      <td>1.069200</td>\n",
       "      <td>1.067790</td>\n",
       "    </tr>\n",
       "  </tbody>\n",
       "</table><p>"
      ],
      "text/plain": [
       "<IPython.core.display.HTML object>"
      ]
     },
     "metadata": {},
     "output_type": "display_data"
    },
    {
     "name": "stderr",
     "output_type": "stream",
     "text": [
      "There were missing keys in the checkpoint model loaded: ['cls.predictions.decoder.weight', 'cls.predictions.decoder.bias'].\n"
     ]
    },
    {
     "data": {
      "text/plain": [
       "TrainOutput(global_step=160, training_loss=1.3678205877542495, metrics={'train_runtime': 2560.3279, 'train_samples_per_second': 1.5, 'train_steps_per_second': 0.062, 'total_flos': 1010697893314560.0, 'train_loss': 1.3678205877542495, 'epoch': 20.0})"
      ]
     },
     "execution_count": 70,
     "metadata": {},
     "output_type": "execute_result"
    }
   ],
   "source": [
    "\n",
    "\n",
    "trainer.train()"
   ]
  },
  {
   "cell_type": "code",
   "execution_count": 73,
   "id": "c4678068",
   "metadata": {},
   "outputs": [
    {
     "data": {
      "text/plain": [
       "('outputs\\\\bert_masked_lm\\\\bert-base-portuguese-cased-finetuned-juridico\\\\tokenizer_config.json',\n",
       " 'outputs\\\\bert_masked_lm\\\\bert-base-portuguese-cased-finetuned-juridico\\\\special_tokens_map.json',\n",
       " 'outputs\\\\bert_masked_lm\\\\bert-base-portuguese-cased-finetuned-juridico\\\\vocab.txt',\n",
       " 'outputs\\\\bert_masked_lm\\\\bert-base-portuguese-cased-finetuned-juridico\\\\added_tokens.json',\n",
       " 'outputs\\\\bert_masked_lm\\\\bert-base-portuguese-cased-finetuned-juridico\\\\tokenizer.json')"
      ]
     },
     "execution_count": 73,
     "metadata": {},
     "output_type": "execute_result"
    }
   ],
   "source": [
    "# Save the trained model\n",
    "trainer.save_model(path_to_save_lm / f\"{model_name}-finetuned-juridico\")\n",
    "tokenizer.save_pretrained(path_to_save_lm / f\"{model_name}-finetuned-juridico\")"
   ]
  },
  {
   "cell_type": "code",
   "execution_count": null,
   "id": "ee415321",
   "metadata": {},
   "outputs": [],
   "source": [
    "from transformers import (\n",
    "    AutoTokenizer,\n",
    "    AutoModelForTokenClassification,\n",
    "    AutoModelForMaskedLM,\n",
    "    pipeline,\n",
    "    AutoConfig,\n",
    ")\n",
    "from datasets import load_dataset\n",
    "from pathlib import Path\n",
    "import torch"
   ]
  },
  {
   "cell_type": "code",
   "execution_count": 74,
   "id": "905fed78",
   "metadata": {},
   "outputs": [],
   "source": [
    "path_to_save_ner = Path(\"./outputs/bert_juridico\")\n",
    "path_to_save_ner.mkdir(parents=True, exist_ok=True)"
   ]
  },
  {
   "cell_type": "code",
   "execution_count": 75,
   "id": "e94f8ec8",
   "metadata": {},
   "outputs": [],
   "source": [
    "# Clean GPU memory\n",
    "import torch\n",
    "import gc\n",
    "\n",
    "model = None\n",
    "trainer = None\n",
    "tokenizer = None\n",
    "gc.collect()\n",
    "torch.cuda.empty_cache()"
   ]
  },
  {
   "cell_type": "code",
   "execution_count": 76,
   "id": "fc9fbc88",
   "metadata": {},
   "outputs": [
    {
     "name": "stderr",
     "output_type": "stream",
     "text": [
      "Some weights of BertForTokenClassification were not initialized from the model checkpoint at outputs\\bert_masked_lm\\bert-base-portuguese-cased-finetuned-juridico and are newly initialized: ['classifier.bias', 'classifier.weight']\n",
      "You should probably TRAIN this model on a down-stream task to be able to use it for predictions and inference.\n"
     ]
    }
   ],
   "source": [
    "from transformers import AutoTokenizer\n",
    "\n",
    "model_checkpoint = Path(\n",
    "    \"./outputs/bert_masked_lm/bert-base-portuguese-cased-finetuned-juridico\"\n",
    ")\n",
    "\n",
    "# Load the tokenizer from the checkpoint\n",
    "tokenizer = AutoTokenizer.from_pretrained(model_checkpoint)\n",
    "# Create a label2id mapping by reversing the id2label mapping\n",
    "label2id_mapping = {v: k for k, v in id2label.items()}\n",
    "# Load the model from the checkpoint\n",
    "model = AutoModelForTokenClassification.from_pretrained(\n",
    "    model_checkpoint,\n",
    "    num_labels=len(id2label),\n",
    "    id2label=id2label,\n",
    "    label2id=label2id_mapping,\n",
    ")"
   ]
  },
  {
   "cell_type": "code",
   "execution_count": 87,
   "id": "da084e35",
   "metadata": {},
   "outputs": [],
   "source": [
    "label_all_tokens = True\n",
    "\n",
    "\n",
    "def tokenize_and_align_labels(examples: dict[str, list[str]]) -> dict[str, list[str]]:\n",
    "    \"\"\"\n",
    "    Tokenize the input words and align the labels with the tokens.\n",
    "\n",
    "    Args:\n",
    "        examples (dict[str, list[str]]): A dictionary containing the input words and the corresponding labels.\n",
    "\n",
    "    Returns:\n",
    "        dict[str, list[str]]: A dictionary containing the tokenized input words and the aligned labels.\n",
    "    \"\"\"\n",
    "    # Tokenize the input words\n",
    "    tokenized_inputs = tokenizer(\n",
    "        examples[\"tokens\"], truncation=True, is_split_into_words=True, max_length=512\n",
    "    )\n",
    "\n",
    "    # Initialize an empty list to store the aligned labels\n",
    "    aligned_labels = []\n",
    "\n",
    "    # Iterate over the labels\n",
    "    for i, label in enumerate(examples[\"ner_tags\"]):\n",
    "        # Get the word IDs for the current batch\n",
    "        word_ids = tokenized_inputs.word_ids(batch_index=i)\n",
    "        previous_word_idx = None\n",
    "        label_ids = []\n",
    "\n",
    "        # Iterate over the word IDs\n",
    "        for word_idx in word_ids:\n",
    "            # Special tokens have a word id that is None. We set the label to -100 so they are automatically\n",
    "            # ignored in the loss function.\n",
    "            if word_idx is None:\n",
    "                label_ids.append(-100)\n",
    "            # We set the label for the first token of each word.\n",
    "            elif word_idx != previous_word_idx:\n",
    "                label_ids.append(label[word_idx])\n",
    "            # For the other tokens in a word, we set the label to either the current label or -100, depending on\n",
    "            # the label_all_tokens flag.\n",
    "            else:\n",
    "                label_ids.append(label[word_idx] if label_all_tokens else -100)\n",
    "            previous_word_idx = word_idx\n",
    "\n",
    "        # Append the label IDs to the aligned labels\n",
    "        aligned_labels.append(label_ids)\n",
    "\n",
    "    # Add the aligned labels to the tokenized inputs\n",
    "    tokenized_inputs[\"labels\"] = aligned_labels\n",
    "\n",
    "    return tokenized_inputs"
   ]
  },
  {
   "cell_type": "code",
   "execution_count": 86,
   "id": "ae5111e0",
   "metadata": {},
   "outputs": [
    {
     "data": {
      "application/vnd.jupyter.widget-view+json": {
       "model_id": "55b3f0050ce3465da14e764b9e33ef49",
       "version_major": 2,
       "version_minor": 0
      },
      "text/plain": [
       "Map:   0%|          | 0/1760 [00:00<?, ? examples/s]"
      ]
     },
     "metadata": {},
     "output_type": "display_data"
    },
    {
     "data": {
      "application/vnd.jupyter.widget-view+json": {
       "model_id": "9bb3e3df48f348b49277f248c8ccaa5f",
       "version_major": 2,
       "version_minor": 0
      },
      "text/plain": [
       "Map:   0%|          | 0/140 [00:00<?, ? examples/s]"
      ]
     },
     "metadata": {},
     "output_type": "display_data"
    },
    {
     "data": {
      "application/vnd.jupyter.widget-view+json": {
       "model_id": "c4ff33215415494b8573db1aa3bca8ad",
       "version_major": 2,
       "version_minor": 0
      },
      "text/plain": [
       "Map:   0%|          | 0/592 [00:00<?, ? examples/s]"
      ]
     },
     "metadata": {},
     "output_type": "display_data"
    }
   ],
   "source": [
    "from datasets import Dataset\n",
    "\n",
    "train_dataset = Dataset.from_dict({\"text\": train_dataset})\n",
    "test_dataset = Dataset.from_dict({\"text\": test_dataset})\n",
    "\n",
    "\n",
    "tokenized_train = Dataset.from_list(juridico_train).map(tokenize_and_align_labels, batched=True)\n",
    "tokenized_valid = Dataset.from_list(juridico_valid).map(tokenize_and_align_labels, batched=True)\n",
    "tokenized_test = Dataset.from_list(juridico_test).map(tokenize_and_align_labels, batched=True)"
   ]
  },
  {
   "cell_type": "code",
   "execution_count": 83,
   "id": "ada8e1b6",
   "metadata": {},
   "outputs": [
    {
     "data": {
      "text/plain": [
       "{'sentences': 'sala das sessões , em de de 2019 .',\n",
       " 'tokens': ['sala', 'das', 'sessões', ',', 'em', 'de', 'de', '2019', '.'],\n",
       " 'ner_tokens': ['O', 'O', 'O', 'O', 'O', 'O', 'O', 'B-DATA', 'O'],\n",
       " 'ner_tags': [10, 10, 10, 10, 10, 10, 10, 0, 10]}"
      ]
     },
     "execution_count": 83,
     "metadata": {},
     "output_type": "execute_result"
    }
   ],
   "source": [
    "juridico_train[0]"
   ]
  },
  {
   "cell_type": "code",
   "execution_count": 88,
   "id": "98ece358",
   "metadata": {},
   "outputs": [],
   "source": [
    "import evaluate\n",
    "import numpy as np\n",
    "\n",
    "metric = evaluate.load(\"seqeval\")\n",
    "\n",
    "\n",
    "def compute_metrics(p):\n",
    "    predictions, labels = p\n",
    "    predictions = np.argmax(predictions, axis=2)\n",
    "\n",
    "    # Remove ignored index (special tokens)\n",
    "    true_predictions = [\n",
    "        [id2label[p] for (p, l) in zip(prediction, label) if l != -100]\n",
    "        for prediction, label in zip(predictions, labels)\n",
    "    ]\n",
    "    true_labels = [\n",
    "        [id2label[l] for (p, l) in zip(prediction, label) if l != -100]\n",
    "        for prediction, label in zip(predictions, labels)\n",
    "    ]\n",
    "\n",
    "    results = metric.compute(predictions=true_predictions, references=true_labels)\n",
    "    return {\n",
    "        \"precision\": results[\"overall_precision\"],\n",
    "        \"recall\": results[\"overall_recall\"],\n",
    "        \"f1\": results[\"overall_f1\"],\n",
    "        \"accuracy\": results[\"overall_accuracy\"],\n",
    "        \"eval_f1\": results[\"overall_f1\"],\n",
    "    }"
   ]
  },
  {
   "cell_type": "code",
   "execution_count": 89,
   "id": "6e94cad0",
   "metadata": {},
   "outputs": [],
   "source": [
    "from transformers import DataCollatorForTokenClassification, TrainingArguments, Trainer\n",
    "\n",
    "# Initialize a data collator for token classification\n",
    "token_classification_collator = DataCollatorForTokenClassification(tokenizer)\n",
    "\n",
    "# Extract the model name from the model checkpoint\n",
    "model_name = str(model_checkpoint).split(\"/\")[-1]\n",
    "\n",
    "# Define the training arguments\n",
    "training_arguments = TrainingArguments(\n",
    "    # Define the output directory for the trained model\n",
    "    output_dir=path_to_save_ner / f\"{model_name}-lener\",\n",
    "    # Overwrite the output directory if it already exists\n",
    "    overwrite_output_dir=True,\n",
    "    # Set the learning rate\n",
    "    learning_rate=2e-5,\n",
    "    # Set the batch size for training\n",
    "    per_device_train_batch_size=8,\n",
    "    # Set the batch size for evaluation\n",
    "    per_device_eval_batch_size=4,\n",
    "    # Accumulate gradients for 1 step before performing an update\n",
    "    gradient_accumulation_steps=1,\n",
    "    # Train the model for 4 epochs\n",
    "    num_train_epochs=4,\n",
    "    # Set the weight decay\n",
    "    weight_decay=0.01,\n",
    "    # Save only the best model\n",
    "    save_total_limit=1,\n",
    "    # Log the training loss after every 5 steps\n",
    "    logging_steps=5,\n",
    "    # Log strategy\n",
    "    logging_strategy=\"steps\",\n",
    "    # Evaluate the model after every 1 epoch\n",
    "    eval_steps=1,\n",
    "    # Save the model after every 1 epoch\n",
    "    save_steps=1,\n",
    "    # Evaluate the model after every epoch\n",
    "    eval_strategy=\"epoch\",\n",
    "    # Save the model after every epoch\n",
    "    save_strategy=\"epoch\",\n",
    "    # Load the best model at the end of training\n",
    "    load_best_model_at_end=True,\n",
    "    # Use the evaluation F1 score to determine the best model\n",
    "    metric_for_best_model=\"eval_f1\",\n",
    "    # Higher evaluation F1 score is better\n",
    "    greater_is_better=True,\n",
    "    # Perform training\n",
    "    do_train=True,\n",
    "    # Perform evaluation\n",
    "    do_eval=True,\n",
    "    # Perform prediction\n",
    "    do_predict=True,\n",
    "    # Use mixed precision training\n",
    "    bf16=True,\n",
    "    # Do not push the model to the Hugging Face Model Hub\n",
    "    push_to_hub=False,\n",
    "    # Set the random seed for reproducibility\n",
    "    seed=271828,\n",
    ")"
   ]
  },
  {
   "cell_type": "code",
   "execution_count": 90,
   "id": "f1848b23",
   "metadata": {},
   "outputs": [],
   "source": [
    "# Initialize the Trainer\n",
    "trainer = Trainer(\n",
    "    # The model to train\n",
    "    model,\n",
    "    # The training arguments\n",
    "    training_arguments,\n",
    "    # The training dataset\n",
    "    train_dataset=tokenized_train,\n",
    "    # The evaluation dataset\n",
    "    eval_dataset=tokenized_valid,\n",
    "    # The data collator\n",
    "    data_collator=token_classification_collator,\n",
    "    # The tokenizer\n",
    "    processing_class=tokenizer,\n",
    "    # The function to compute the metrics\n",
    "    compute_metrics=compute_metrics,\n",
    ")"
   ]
  },
  {
   "cell_type": "code",
   "execution_count": 91,
   "id": "c82c1c18",
   "metadata": {},
   "outputs": [
    {
     "data": {
      "text/html": [
       "\n",
       "    <div>\n",
       "      \n",
       "      <progress value='880' max='880' style='width:300px; height:20px; vertical-align: middle;'></progress>\n",
       "      [880/880 01:58, Epoch 4/4]\n",
       "    </div>\n",
       "    <table border=\"1\" class=\"dataframe\">\n",
       "  <thead>\n",
       " <tr style=\"text-align: left;\">\n",
       "      <th>Epoch</th>\n",
       "      <th>Training Loss</th>\n",
       "      <th>Validation Loss</th>\n",
       "      <th>F1</th>\n",
       "      <th>Precision</th>\n",
       "      <th>Recall</th>\n",
       "      <th>Accuracy</th>\n",
       "    </tr>\n",
       "  </thead>\n",
       "  <tbody>\n",
       "    <tr>\n",
       "      <td>1</td>\n",
       "      <td>0.117800</td>\n",
       "      <td>0.155582</td>\n",
       "      <td>0.646288</td>\n",
       "      <td>0.666667</td>\n",
       "      <td>0.627119</td>\n",
       "      <td>0.959745</td>\n",
       "    </tr>\n",
       "    <tr>\n",
       "      <td>2</td>\n",
       "      <td>0.046600</td>\n",
       "      <td>0.095303</td>\n",
       "      <td>0.788913</td>\n",
       "      <td>0.793991</td>\n",
       "      <td>0.783898</td>\n",
       "      <td>0.976452</td>\n",
       "    </tr>\n",
       "    <tr>\n",
       "      <td>3</td>\n",
       "      <td>0.058400</td>\n",
       "      <td>0.093585</td>\n",
       "      <td>0.821577</td>\n",
       "      <td>0.804878</td>\n",
       "      <td>0.838983</td>\n",
       "      <td>0.975975</td>\n",
       "    </tr>\n",
       "    <tr>\n",
       "      <td>4</td>\n",
       "      <td>0.018400</td>\n",
       "      <td>0.093112</td>\n",
       "      <td>0.810021</td>\n",
       "      <td>0.798354</td>\n",
       "      <td>0.822034</td>\n",
       "      <td>0.976929</td>\n",
       "    </tr>\n",
       "  </tbody>\n",
       "</table><p>"
      ],
      "text/plain": [
       "<IPython.core.display.HTML object>"
      ]
     },
     "metadata": {},
     "output_type": "display_data"
    },
    {
     "name": "stderr",
     "output_type": "stream",
     "text": [
      "c:\\Users\\josel\\Documents\\UFRN\\PLN\\imd1107-nlp\\.venv\\Lib\\site-packages\\seqeval\\metrics\\v1.py:57: UndefinedMetricWarning: Precision and F-score are ill-defined and being set to 0.0 in labels with no predicted samples. Use `zero_division` parameter to control this behavior.\n",
      "  _warn_prf(average, modifier, msg_start, len(result))\n",
      "c:\\Users\\josel\\Documents\\UFRN\\PLN\\imd1107-nlp\\.venv\\Lib\\site-packages\\seqeval\\metrics\\v1.py:57: UndefinedMetricWarning: Precision and F-score are ill-defined and being set to 0.0 in labels with no predicted samples. Use `zero_division` parameter to control this behavior.\n",
      "  _warn_prf(average, modifier, msg_start, len(result))\n",
      "c:\\Users\\josel\\Documents\\UFRN\\PLN\\imd1107-nlp\\.venv\\Lib\\site-packages\\seqeval\\metrics\\v1.py:57: UndefinedMetricWarning: Precision and F-score are ill-defined and being set to 0.0 in labels with no predicted samples. Use `zero_division` parameter to control this behavior.\n",
      "  _warn_prf(average, modifier, msg_start, len(result))\n",
      "c:\\Users\\josel\\Documents\\UFRN\\PLN\\imd1107-nlp\\.venv\\Lib\\site-packages\\seqeval\\metrics\\v1.py:57: UndefinedMetricWarning: Precision and F-score are ill-defined and being set to 0.0 in labels with no predicted samples. Use `zero_division` parameter to control this behavior.\n",
      "  _warn_prf(average, modifier, msg_start, len(result))\n"
     ]
    },
    {
     "data": {
      "text/plain": [
       "TrainOutput(global_step=880, training_loss=0.128488136802546, metrics={'train_runtime': 118.5671, 'train_samples_per_second': 59.376, 'train_steps_per_second': 7.422, 'total_flos': 424158979235040.0, 'train_loss': 0.128488136802546, 'epoch': 4.0})"
      ]
     },
     "execution_count": 91,
     "metadata": {},
     "output_type": "execute_result"
    }
   ],
   "source": [
    "trainer.train()"
   ]
  },
  {
   "cell_type": "code",
   "execution_count": 92,
   "id": "d88a437d",
   "metadata": {},
   "outputs": [
    {
     "data": {
      "text/html": [],
      "text/plain": [
       "<IPython.core.display.HTML object>"
      ]
     },
     "metadata": {},
     "output_type": "display_data"
    },
    {
     "name": "stderr",
     "output_type": "stream",
     "text": [
      "c:\\Users\\josel\\Documents\\UFRN\\PLN\\imd1107-nlp\\.venv\\Lib\\site-packages\\seqeval\\metrics\\v1.py:57: UndefinedMetricWarning: Precision and F-score are ill-defined and being set to 0.0 in labels with no predicted samples. Use `zero_division` parameter to control this behavior.\n",
      "  _warn_prf(average, modifier, msg_start, len(result))\n"
     ]
    },
    {
     "data": {
      "text/plain": [
       "{'eval_f1': 0.7751677852348994,\n",
       " 'eval_loss': 0.08809998631477356,\n",
       " 'eval_precision': 0.7693588676103247,\n",
       " 'eval_recall': 0.7810650887573964,\n",
       " 'eval_accuracy': 0.9776683954940372,\n",
       " 'eval_runtime': 3.0452,\n",
       " 'eval_samples_per_second': 194.402,\n",
       " 'eval_steps_per_second': 48.601,\n",
       " 'epoch': 4.0}"
      ]
     },
     "execution_count": 92,
     "metadata": {},
     "output_type": "execute_result"
    }
   ],
   "source": [
    "trainer.evaluate(tokenized_test)"
   ]
  },
  {
   "cell_type": "code",
   "execution_count": 93,
   "id": "7c6bd3cf",
   "metadata": {},
   "outputs": [
    {
     "data": {
      "text/plain": [
       "('outputs\\\\bert_juridico\\\\outputs\\\\bert_masked_lm\\\\bert-base-portuguese-cased-finetuned-juridico-juridico\\\\tokenizer_config.json',\n",
       " 'outputs\\\\bert_juridico\\\\outputs\\\\bert_masked_lm\\\\bert-base-portuguese-cased-finetuned-juridico-juridico\\\\special_tokens_map.json',\n",
       " 'outputs\\\\bert_juridico\\\\outputs\\\\bert_masked_lm\\\\bert-base-portuguese-cased-finetuned-juridico-juridico\\\\vocab.txt',\n",
       " 'outputs\\\\bert_juridico\\\\outputs\\\\bert_masked_lm\\\\bert-base-portuguese-cased-finetuned-juridico-juridico\\\\added_tokens.json',\n",
       " 'outputs\\\\bert_juridico\\\\outputs\\\\bert_masked_lm\\\\bert-base-portuguese-cased-finetuned-juridico-juridico\\\\tokenizer.json')"
      ]
     },
     "execution_count": 93,
     "metadata": {},
     "output_type": "execute_result"
    }
   ],
   "source": [
    "# Save the trained model\n",
    "trainer.save_model(path_to_save_ner / f\"{model_name}-juridico\")\n",
    "tokenizer.save_pretrained(path_to_save_ner / f\"{model_name}-juridico\")"
   ]
  },
  {
   "cell_type": "code",
   "execution_count": 94,
   "id": "8992841c",
   "metadata": {},
   "outputs": [
    {
     "data": {
      "text/plain": [
       "{'DATA': {'precision': 0.851063829787234,\n",
       "  'recall': 0.9302325581395349,\n",
       "  'f1': 0.888888888888889,\n",
       "  'number': 86},\n",
       " 'EVENTO': {'precision': 0.0, 'recall': 0.0, 'f1': 0.0, 'number': 4},\n",
       " 'FUNDAMENTO': {'precision': 0.8092485549132948,\n",
       "  'recall': 0.8,\n",
       "  'f1': 0.8045977011494254,\n",
       "  'number': 175},\n",
       " 'LOCAL': {'precision': 0.775438596491228,\n",
       "  'recall': 0.6717325227963525,\n",
       "  'f1': 0.7198697068403908,\n",
       "  'number': 329},\n",
       " 'ORGANIZACAO': {'precision': 0.7428571428571429,\n",
       "  'recall': 0.861878453038674,\n",
       "  'f1': 0.7979539641943735,\n",
       "  'number': 181},\n",
       " 'PESSOA': {'precision': 0.8233532934131736,\n",
       "  'recall': 0.8675078864353313,\n",
       "  'f1': 0.8448540706605223,\n",
       "  'number': 317},\n",
       " 'PRODUTODELEI': {'precision': 0.49523809523809526,\n",
       "  'recall': 0.5714285714285714,\n",
       "  'f1': 0.5306122448979591,\n",
       "  'number': 91},\n",
       " 'overall_precision': 0.7693588676103247,\n",
       " 'overall_recall': 0.7810650887573964,\n",
       " 'overall_f1': 0.7751677852348994,\n",
       " 'overall_accuracy': 0.9776683954940372}"
      ]
     },
     "execution_count": 94,
     "metadata": {},
     "output_type": "execute_result"
    }
   ],
   "source": [
    "predictions, labels, _ = trainer.predict(tokenized_test)\n",
    "\n",
    "predictions = np.argmax(predictions, axis=2)\n",
    "\n",
    "# Remove ignored index (special tokens)\n",
    "true_predictions = [\n",
    "    [id2label[p] for (p, l) in zip(prediction, label) if l != -100]\n",
    "    for prediction, label in zip(predictions, labels)\n",
    "]\n",
    "true_labels = [\n",
    "    [id2label[l] for (p, l) in zip(prediction, label) if l != -100]\n",
    "    for prediction, label in zip(predictions, labels)\n",
    "]\n",
    "\n",
    "results_huggingface = metric.compute(\n",
    "    predictions=true_predictions, references=true_labels\n",
    ")\n",
    "results_huggingface"
   ]
  },
  {
   "cell_type": "markdown",
   "id": "2159460c",
   "metadata": {},
   "source": [
    "## Comparando Spacy vs Transformers"
   ]
  },
  {
   "cell_type": "code",
   "execution_count": 106,
   "id": "f24bc6d9",
   "metadata": {},
   "outputs": [
    {
     "name": "stdout",
     "output_type": "stream",
     "text": [
      "Collecting seaborn\n",
      "  Using cached seaborn-0.13.2-py3-none-any.whl.metadata (5.4 kB)\n",
      "Requirement already satisfied: numpy!=1.24.0,>=1.20 in c:\\users\\josel\\documents\\ufrn\\pln\\imd1107-nlp\\.venv\\lib\\site-packages (from seaborn) (1.26.4)\n",
      "Requirement already satisfied: pandas>=1.2 in c:\\users\\josel\\documents\\ufrn\\pln\\imd1107-nlp\\.venv\\lib\\site-packages (from seaborn) (2.2.3)\n",
      "Requirement already satisfied: matplotlib!=3.6.1,>=3.4 in c:\\users\\josel\\documents\\ufrn\\pln\\imd1107-nlp\\.venv\\lib\\site-packages (from seaborn) (3.10.1)\n",
      "Requirement already satisfied: contourpy>=1.0.1 in c:\\users\\josel\\documents\\ufrn\\pln\\imd1107-nlp\\.venv\\lib\\site-packages (from matplotlib!=3.6.1,>=3.4->seaborn) (1.3.1)\n",
      "Requirement already satisfied: cycler>=0.10 in c:\\users\\josel\\documents\\ufrn\\pln\\imd1107-nlp\\.venv\\lib\\site-packages (from matplotlib!=3.6.1,>=3.4->seaborn) (0.12.1)\n",
      "Requirement already satisfied: fonttools>=4.22.0 in c:\\users\\josel\\documents\\ufrn\\pln\\imd1107-nlp\\.venv\\lib\\site-packages (from matplotlib!=3.6.1,>=3.4->seaborn) (4.56.0)\n",
      "Requirement already satisfied: kiwisolver>=1.3.1 in c:\\users\\josel\\documents\\ufrn\\pln\\imd1107-nlp\\.venv\\lib\\site-packages (from matplotlib!=3.6.1,>=3.4->seaborn) (1.4.8)\n",
      "Requirement already satisfied: packaging>=20.0 in c:\\users\\josel\\documents\\ufrn\\pln\\imd1107-nlp\\.venv\\lib\\site-packages (from matplotlib!=3.6.1,>=3.4->seaborn) (24.2)\n",
      "Requirement already satisfied: pillow>=8 in c:\\users\\josel\\documents\\ufrn\\pln\\imd1107-nlp\\.venv\\lib\\site-packages (from matplotlib!=3.6.1,>=3.4->seaborn) (11.1.0)\n",
      "Requirement already satisfied: pyparsing>=2.3.1 in c:\\users\\josel\\documents\\ufrn\\pln\\imd1107-nlp\\.venv\\lib\\site-packages (from matplotlib!=3.6.1,>=3.4->seaborn) (3.2.1)\n",
      "Requirement already satisfied: python-dateutil>=2.7 in c:\\users\\josel\\documents\\ufrn\\pln\\imd1107-nlp\\.venv\\lib\\site-packages (from matplotlib!=3.6.1,>=3.4->seaborn) (2.9.0.post0)\n",
      "Requirement already satisfied: pytz>=2020.1 in c:\\users\\josel\\documents\\ufrn\\pln\\imd1107-nlp\\.venv\\lib\\site-packages (from pandas>=1.2->seaborn) (2025.1)\n",
      "Requirement already satisfied: tzdata>=2022.7 in c:\\users\\josel\\documents\\ufrn\\pln\\imd1107-nlp\\.venv\\lib\\site-packages (from pandas>=1.2->seaborn) (2025.1)\n",
      "Requirement already satisfied: six>=1.5 in c:\\users\\josel\\documents\\ufrn\\pln\\imd1107-nlp\\.venv\\lib\\site-packages (from python-dateutil>=2.7->matplotlib!=3.6.1,>=3.4->seaborn) (1.17.0)\n",
      "Using cached seaborn-0.13.2-py3-none-any.whl (294 kB)\n",
      "Installing collected packages: seaborn\n",
      "Successfully installed seaborn-0.13.2\n"
     ]
    }
   ],
   "source": [
    "!pip install seaborn"
   ]
  },
  {
   "cell_type": "code",
   "execution_count": 96,
   "id": "1e49c99f",
   "metadata": {},
   "outputs": [
    {
     "data": {
      "text/plain": [
       "{'PESSOA': {'p': 0.7851239669421488, 'r': 0.7037037037037037, 'f': 0.7421875},\n",
       " 'FUNDAMENTO': {'p': 0.7181208053691275,\n",
       "  'r': 0.7328767123287672,\n",
       "  'f': 0.7254237288135593},\n",
       " 'PRODUTODELEI': {'p': 0.5692307692307692,\n",
       "  'r': 0.5873015873015873,\n",
       "  'f': 0.578125},\n",
       " 'ORGANIZACAO': {'p': 0.6893203883495146,\n",
       "  'r': 0.5725806451612904,\n",
       "  'f': 0.6255506607929515},\n",
       " 'DATA': {'p': 0.8604651162790697,\n",
       "  'r': 0.8809523809523809,\n",
       "  'f': 0.8705882352941177},\n",
       " 'LOCAL': {'p': 0.7722772277227723, 'r': 0.5, 'f': 0.6070038910505836},\n",
       " 'EVENTO': {'p': 0.0, 'r': 0.0, 'f': 0.0}}"
      ]
     },
     "execution_count": 96,
     "metadata": {},
     "output_type": "execute_result"
    }
   ],
   "source": [
    "results_spacy[\"ents_per_type\"]"
   ]
  },
  {
   "cell_type": "code",
   "execution_count": null,
   "id": "f3c7ad78",
   "metadata": {},
   "outputs": [],
   "source": [
    "import pandas as pd\n",
    "import numpy\n",
    "# Padronizar o formato (entidade, modelo, métrica, valor)\n",
    "rows = []\n",
    "\n",
    "# spaCy\n",
    "for ent, metrics in results_spacy[\"ents_per_type\"].items():\n",
    "    rows.append({'entity': ent, 'model': 'spaCy', 'precision': metrics['p'], 'recall': metrics['r'], 'f1': metrics['f']})\n",
    "\n",
    "# transformers\n",
    "for ent, metrics in results_huggingface.items():\n",
    "    if type(metrics) != numpy.float64 and type(metrics) != float:\n",
    "        rows.append({'entity': ent, 'model': 'transformers',\n",
    "                    'precision': metrics.get('precision', 0),\n",
    "                    'recall': metrics.get('recall', 0),\n",
    "                    'f1': metrics.get('f1', 0)})\n",
    "\n",
    "df = pd.DataFrame(rows)"
   ]
  },
  {
   "cell_type": "code",
   "execution_count": 122,
   "id": "441728d5",
   "metadata": {},
   "outputs": [
    {
     "data": {
      "text/html": [
       "<div>\n",
       "<style scoped>\n",
       "    .dataframe tbody tr th:only-of-type {\n",
       "        vertical-align: middle;\n",
       "    }\n",
       "\n",
       "    .dataframe tbody tr th {\n",
       "        vertical-align: top;\n",
       "    }\n",
       "\n",
       "    .dataframe thead th {\n",
       "        text-align: right;\n",
       "    }\n",
       "</style>\n",
       "<table border=\"1\" class=\"dataframe\">\n",
       "  <thead>\n",
       "    <tr style=\"text-align: right;\">\n",
       "      <th></th>\n",
       "      <th>entity</th>\n",
       "      <th>model</th>\n",
       "      <th>precision</th>\n",
       "      <th>recall</th>\n",
       "      <th>f1</th>\n",
       "    </tr>\n",
       "  </thead>\n",
       "  <tbody>\n",
       "    <tr>\n",
       "      <th>0</th>\n",
       "      <td>PESSOA</td>\n",
       "      <td>spaCy</td>\n",
       "      <td>0.785124</td>\n",
       "      <td>0.703704</td>\n",
       "      <td>0.742188</td>\n",
       "    </tr>\n",
       "    <tr>\n",
       "      <th>1</th>\n",
       "      <td>FUNDAMENTO</td>\n",
       "      <td>spaCy</td>\n",
       "      <td>0.718121</td>\n",
       "      <td>0.732877</td>\n",
       "      <td>0.725424</td>\n",
       "    </tr>\n",
       "    <tr>\n",
       "      <th>2</th>\n",
       "      <td>PRODUTODELEI</td>\n",
       "      <td>spaCy</td>\n",
       "      <td>0.569231</td>\n",
       "      <td>0.587302</td>\n",
       "      <td>0.578125</td>\n",
       "    </tr>\n",
       "    <tr>\n",
       "      <th>3</th>\n",
       "      <td>ORGANIZACAO</td>\n",
       "      <td>spaCy</td>\n",
       "      <td>0.689320</td>\n",
       "      <td>0.572581</td>\n",
       "      <td>0.625551</td>\n",
       "    </tr>\n",
       "    <tr>\n",
       "      <th>4</th>\n",
       "      <td>DATA</td>\n",
       "      <td>spaCy</td>\n",
       "      <td>0.860465</td>\n",
       "      <td>0.880952</td>\n",
       "      <td>0.870588</td>\n",
       "    </tr>\n",
       "    <tr>\n",
       "      <th>5</th>\n",
       "      <td>LOCAL</td>\n",
       "      <td>spaCy</td>\n",
       "      <td>0.772277</td>\n",
       "      <td>0.500000</td>\n",
       "      <td>0.607004</td>\n",
       "    </tr>\n",
       "    <tr>\n",
       "      <th>6</th>\n",
       "      <td>EVENTO</td>\n",
       "      <td>spaCy</td>\n",
       "      <td>0.000000</td>\n",
       "      <td>0.000000</td>\n",
       "      <td>0.000000</td>\n",
       "    </tr>\n",
       "    <tr>\n",
       "      <th>7</th>\n",
       "      <td>DATA</td>\n",
       "      <td>transformers</td>\n",
       "      <td>0.851064</td>\n",
       "      <td>0.930233</td>\n",
       "      <td>0.888889</td>\n",
       "    </tr>\n",
       "    <tr>\n",
       "      <th>8</th>\n",
       "      <td>EVENTO</td>\n",
       "      <td>transformers</td>\n",
       "      <td>0.000000</td>\n",
       "      <td>0.000000</td>\n",
       "      <td>0.000000</td>\n",
       "    </tr>\n",
       "    <tr>\n",
       "      <th>9</th>\n",
       "      <td>FUNDAMENTO</td>\n",
       "      <td>transformers</td>\n",
       "      <td>0.809249</td>\n",
       "      <td>0.800000</td>\n",
       "      <td>0.804598</td>\n",
       "    </tr>\n",
       "    <tr>\n",
       "      <th>10</th>\n",
       "      <td>LOCAL</td>\n",
       "      <td>transformers</td>\n",
       "      <td>0.775439</td>\n",
       "      <td>0.671733</td>\n",
       "      <td>0.719870</td>\n",
       "    </tr>\n",
       "    <tr>\n",
       "      <th>11</th>\n",
       "      <td>ORGANIZACAO</td>\n",
       "      <td>transformers</td>\n",
       "      <td>0.742857</td>\n",
       "      <td>0.861878</td>\n",
       "      <td>0.797954</td>\n",
       "    </tr>\n",
       "    <tr>\n",
       "      <th>12</th>\n",
       "      <td>PESSOA</td>\n",
       "      <td>transformers</td>\n",
       "      <td>0.823353</td>\n",
       "      <td>0.867508</td>\n",
       "      <td>0.844854</td>\n",
       "    </tr>\n",
       "    <tr>\n",
       "      <th>13</th>\n",
       "      <td>PRODUTODELEI</td>\n",
       "      <td>transformers</td>\n",
       "      <td>0.495238</td>\n",
       "      <td>0.571429</td>\n",
       "      <td>0.530612</td>\n",
       "    </tr>\n",
       "  </tbody>\n",
       "</table>\n",
       "</div>"
      ],
      "text/plain": [
       "          entity         model  precision    recall        f1\n",
       "0         PESSOA         spaCy   0.785124  0.703704  0.742188\n",
       "1     FUNDAMENTO         spaCy   0.718121  0.732877  0.725424\n",
       "2   PRODUTODELEI         spaCy   0.569231  0.587302  0.578125\n",
       "3    ORGANIZACAO         spaCy   0.689320  0.572581  0.625551\n",
       "4           DATA         spaCy   0.860465  0.880952  0.870588\n",
       "5          LOCAL         spaCy   0.772277  0.500000  0.607004\n",
       "6         EVENTO         spaCy   0.000000  0.000000  0.000000\n",
       "7           DATA  transformers   0.851064  0.930233  0.888889\n",
       "8         EVENTO  transformers   0.000000  0.000000  0.000000\n",
       "9     FUNDAMENTO  transformers   0.809249  0.800000  0.804598\n",
       "10         LOCAL  transformers   0.775439  0.671733  0.719870\n",
       "11   ORGANIZACAO  transformers   0.742857  0.861878  0.797954\n",
       "12        PESSOA  transformers   0.823353  0.867508  0.844854\n",
       "13  PRODUTODELEI  transformers   0.495238  0.571429  0.530612"
      ]
     },
     "execution_count": 122,
     "metadata": {},
     "output_type": "execute_result"
    }
   ],
   "source": [
    "df"
   ]
  },
  {
   "cell_type": "markdown",
   "id": "102552a3",
   "metadata": {},
   "source": [
    "#### Tempo de execução"
   ]
  },
  {
   "cell_type": "code",
   "execution_count": 143,
   "id": "3f1d24de",
   "metadata": {},
   "outputs": [
    {
     "data": {
      "image/png": "[encoded data removed]",
      "text/plain": [
       "<Figure size 640x480 with 1 Axes>"
      ]
     },
     "metadata": {},
     "output_type": "display_data"
    }
   ],
   "source": [
    "import matplotlib.pyplot as plt\n",
    "\n",
    "# Frequência simulada de entidades\n",
    "frequencias = {\n",
    "    'spaCy': 42.4, 'transformers': 1.58\n",
    "}\n",
    "\n",
    "# Plotando\n",
    "plt.bar(frequencias.keys(), frequencias.values())\n",
    "plt.xticks(rotation=45)\n",
    "plt.title(\"Comparação de tempo de treinamento em minutos (spaCy vs Transformers)\")\n",
    "plt.xlabel(\"Modelos\")\n",
    "plt.ylabel(\"Tempo de treinamento (minutos)\")\n",
    "plt.tight_layout()\n",
    "plt.show()"
   ]
  },
  {
   "cell_type": "code",
   "execution_count": null,
   "id": "54b57cd3",
   "metadata": {},
   "outputs": [
    {
     "name": "stderr",
     "output_type": "stream",
     "text": [
      "C:\\Users\\josel\\AppData\\Local\\Temp\\ipykernel_8088\\2678852552.py:6: FutureWarning: \n",
      "\n",
      "The `ci` parameter is deprecated. Use `errorbar=None` for the same effect.\n",
      "\n",
      "  sns.barplot(data=df, x='entity', y='recall', hue='model', palette='Set2', ci=None)\n"
     ]
    },
    {
     "data": {
      "image/png": "[encoded data removed]",
      "text/plain": [
       "<Figure size 1200x600 with 1 Axes>"
      ]
     },
     "metadata": {},
     "output_type": "display_data"
    }
   ],
   "source": [
    "\n",
    "plt.figure(figsize=(12, 6))\n",
    "sns.barplot(data=df, x='entity', y='recall', hue='model', palette='Set2', ci=None)\n",
    "\n",
    "plt.title(\"Comparação de Recall por Entidade (spaCy vs Transformers) - Recall\")\n",
    "plt.ylabel(\"Recall\")\n",
    "plt.xlabel(\"Entidade\")\n",
    "plt.ylim(0, 1.05)\n",
    "plt.legend(title=\"Modelo\")\n",
    "plt.tight_layout()\n",
    "plt.show()"
   ]
  },
  {
   "cell_type": "code",
   "execution_count": 136,
   "id": "29f311e4",
   "metadata": {},
   "outputs": [
    {
     "data": {
      "image/png": "[encoded data removed]",
      "text/plain": [
       "<Figure size 1200x600 with 1 Axes>"
      ]
     },
     "metadata": {},
     "output_type": "display_data"
    }
   ],
   "source": [
    "plt.figure(figsize=(12, 6))\n",
    "sns.barplot(data=df, x='entity', y='f1', hue='model', palette='Set1')\n",
    "\n",
    "plt.title(\"Comparação de f1 por Entidade (spaCy vs Transformers) - F1 Score\")\n",
    "plt.ylabel(\"f1\")\n",
    "plt.xlabel(\"Entidade\")\n",
    "plt.ylim(0, 1.05)\n",
    "plt.legend(title=\"Modelo\")\n",
    "plt.tight_layout()\n",
    "plt.show()"
   ]
  },
  {
   "cell_type": "code",
   "execution_count": 135,
   "id": "7fa43313",
   "metadata": {},
   "outputs": [
    {
     "data": {
      "image/png": "[encoded data removed]",
      "text/plain": [
       "<Figure size 1200x600 with 1 Axes>"
      ]
     },
     "metadata": {},
     "output_type": "display_data"
    }
   ],
   "source": [
    "plt.figure(figsize=(12, 6))\n",
    "sns.barplot(data=df, x='entity', y='precision', hue='model', palette='Set3')\n",
    "\n",
    "plt.title(\"Comparação de precision por Entidade (spaCy vs Transformers) - Precision\")\n",
    "plt.ylabel(\"precision\")\n",
    "plt.xlabel(\"Entidade\")\n",
    "plt.ylim(0, 1.05)\n",
    "plt.legend(title=\"Modelo\")\n",
    "plt.tight_layout()\n",
    "plt.show()"
   ]
  },
  {
   "cell_type": "markdown",
   "id": "704d8626",
   "metadata": {},
   "source": [
    "#### Obervações finais\n",
    "\n",
    "\n",
    "O modelo com o Spacy teve o treinamento mais lento (42 minutos), e um desempenho geral pior. Já o que usa transformers teve o tempo de treino\n",
    "bem mais rapido 26 vezes mais rapido, e as métricas foram melhores. Por isso que usando transformers é o melhor jeito para essa tarefa de NER."
   ]
  }
 ],
 "metadata": {
  "kernelspec": {
   "display_name": ".venv",
   "language": "python",
   "name": "python3"
  },
  "language_info": {
   "codemirror_mode": {
    "name": "ipython",
    "version": 3
   },
   "file_extension": ".py",
   "mimetype": "text/x-python",
   "name": "python",
   "nbconvert_exporter": "python",
   "pygments_lexer": "ipython3",
   "version": "3.12.8"
  }
 },
 "nbformat": 4,
 "nbformat_minor": 5
}
